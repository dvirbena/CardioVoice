{
 "cells": [
  {
   "cell_type": "code",
   "execution_count": 1,
   "id": "99ae6a10",
   "metadata": {},
   "outputs": [],
   "source": [
    "# Cell 1: Data Loading and Preprocessing Functions\n",
    "\n",
    "\n",
    "# This notebook implements a comprehensive ML model for classifying normal vs abnormal heart sounds\n",
    "# using audio recordings from 4 auscultation locations and patient demographics\n",
    "\n",
    "import torch\n",
    "import torch.nn as nn\n",
    "import torch.nn.functional as F\n",
    "import torchaudio\n",
    "import pandas as pd\n",
    "import numpy as np\n",
    "import librosa\n",
    "import os\n",
    "from pathlib import Path\n",
    "from sklearn.model_selection import train_test_split\n",
    "from sklearn.preprocessing import StandardScaler, LabelEncoder\n",
    "from sklearn.metrics import accuracy_score, classification_report, confusion_matrix\n",
    "from torch.utils.data import Dataset, DataLoader\n",
    "import matplotlib.pyplot as plt\n",
    "import seaborn as sns\n",
    "from tqdm import tqdm\n",
    "import warnings\n",
    "warnings.filterwarnings('ignore')\n",
    "\n",
    "CLIP_LENGTH = 3  # seconds\n",
    "\n",
    "class AudioPreprocessor:\n",
    "    \"\"\"Handles audio preprocessing including bandpass filtering and mel-spectrogram generation\"\"\"\n",
    "    \n",
    "    def __init__(self, sample_rate=4000, n_mels=128, n_fft=1024, hop_length=512, \n",
    "                 normalization_method='minmax'): #zscore #minmax #robust #global_stats\n",
    "        self.sample_rate = sample_rate\n",
    "        self.n_mels = n_mels\n",
    "        self.n_fft = n_fft\n",
    "        self.hop_length = hop_length\n",
    "        self.normalization_method = normalization_method\n",
    "\n",
    "    def bandpass_filter(self, audio, lowcut=25, highcut=800):\n",
    "        \"\"\"Apply bandpass filter to remove noise\"\"\"\n",
    "        from scipy import signal\n",
    "        nyquist = 0.5 * self.sample_rate\n",
    "        low = lowcut / nyquist\n",
    "        high = highcut / nyquist\n",
    "        b, a = signal.butter(4, [low, high], btype='band')\n",
    "        return signal.filtfilt(b, a, audio)\n",
    "    \n",
    "    def split_into_5s_clips(self, audio, sample_rate):\n",
    "        \"\"\"Split audio into 5-second clips, discarding remainder\"\"\"\n",
    "        clip_length = CLIP_LENGTH * sample_rate\n",
    "        n_clips = len(audio) // clip_length\n",
    "        clips = []\n",
    "        for i in range(n_clips):\n",
    "            start = i * clip_length\n",
    "            end = start + clip_length\n",
    "            clips.append(audio[start:end])\n",
    "        return clips\n",
    "    \n",
    "    def audio_to_melspec(self, audio):\n",
    "        \"\"\"Convert audio to mel-log spectrogram\"\"\"\n",
    "        # Apply bandpass filter\n",
    "        filtered_audio = self.bandpass_filter(audio)\n",
    "        \n",
    "        # Generate mel spectrogram\n",
    "        mel_spec = librosa.feature.melspectrogram(\n",
    "            y=filtered_audio,\n",
    "            sr=self.sample_rate,\n",
    "            n_mels=self.n_mels,\n",
    "            n_fft=self.n_fft,\n",
    "            hop_length=self.hop_length\n",
    "        )\n",
    "        \n",
    "        # Convert to log scale\n",
    "        log_mel_spec = librosa.power_to_db(mel_spec, ref=np.max)\n",
    "\n",
    "                # Apply normalization based on chosen method\n",
    "        if self.normalization_method == 'zscore':\n",
    "            # Z-score normalization (zero mean, unit variance) - Most common for CNNs\n",
    "            log_mel_spec = (log_mel_spec - np.mean(log_mel_spec)) / (np.std(log_mel_spec) + 1e-8)\n",
    "            \n",
    "        elif self.normalization_method == 'minmax':\n",
    "            # Min-Max normalization to [0, 1] range\n",
    "            min_val = np.min(log_mel_spec)\n",
    "            max_val = np.max(log_mel_spec)\n",
    "            log_mel_spec = (log_mel_spec - min_val) / (max_val - min_val + 1e-8)\n",
    "            \n",
    "        elif self.normalization_method == 'robust':\n",
    "            # Robust normalization using percentiles (less sensitive to outliers)\n",
    "            p5, p95 = np.percentile(log_mel_spec, [5, 95])\n",
    "            log_mel_spec = np.clip((log_mel_spec - p5) / (p95 - p5 + 1e-8), 0, 1)\n",
    "            \n",
    "        elif self.normalization_method == 'global_stats':\n",
    "            # Global normalization using dataset statistics (would need to be computed first)\n",
    "            # This is a placeholder - you'd need to compute these stats from your training data\n",
    "            # global_mean, global_std = compute_dataset_stats()  # Implement this function\n",
    "            # log_mel_spec = (log_mel_spec - global_mean) / (global_std + 1e-8)\n",
    "            pass\n",
    "        \n",
    "        # If normalization_method == 'none', no normalization is applied\n",
    "        \n",
    "        return log_mel_spec\n",
    "\n",
    "    def compute_dataset_statistics(self, patients_data, num_samples=1000):\n",
    "        \"\"\"Compute global mean and std from a subset of the dataset for global normalization\"\"\"\n",
    "        print(\"Computing dataset statistics for normalization...\")\n",
    "        \n",
    "        all_spectrograms = []\n",
    "        sample_count = 0\n",
    "        \n",
    "        for patient in tqdm(patients_data[:num_samples], desc=\"Computing stats\"):\n",
    "            if sample_count >= num_samples:\n",
    "                break\n",
    "                \n",
    "            recordings = patient.get('recordings', {})\n",
    "            for location in ['AV', 'PV', 'TV', 'MV']:\n",
    "                if location in recordings:\n",
    "                    for audio_file in recordings[location]:\n",
    "                        try:\n",
    "                            audio, sr = librosa.load(audio_file, sr=self.sample_rate)\n",
    "                            clips = self.split_into_5s_clips(audio, sr)\n",
    "                            \n",
    "                            for clip in clips[:2]:  # Only use first 2 clips per file to save memory\n",
    "                                # Apply preprocessing without normalization\n",
    "                                temp_method = self.normalization_method\n",
    "                                self.normalization_method = 'none'\n",
    "                                mel_spec = self.audio_to_melspec(clip)\n",
    "                                self.normalization_method = temp_method\n",
    "                                \n",
    "                                all_spectrograms.append(mel_spec)\n",
    "                                sample_count += 1\n",
    "                                \n",
    "                                if sample_count >= num_samples:\n",
    "                                    break\n",
    "                            \n",
    "                            if sample_count >= num_samples:\n",
    "                                break\n",
    "                        except Exception as e:\n",
    "                            continue\n",
    "                    \n",
    "                    if sample_count >= num_samples:\n",
    "                        break\n",
    "                \n",
    "                if sample_count >= num_samples:\n",
    "                    break\n",
    "        \n",
    "        if all_spectrograms:\n",
    "            # Concatenate all spectrograms and compute global statistics\n",
    "            all_data = np.concatenate([spec.flatten() for spec in all_spectrograms])\n",
    "            global_mean = np.mean(all_data)\n",
    "            global_std = np.std(all_data)\n",
    "            \n",
    "            print(f\"Dataset statistics computed from {len(all_spectrograms)} spectrograms:\")\n",
    "            print(f\"Global mean: {global_mean:.4f}\")\n",
    "            print(f\"Global std: {global_std:.4f}\")\n",
    "            \n",
    "            return global_mean, global_std\n",
    "        else:\n",
    "            print(\"Warning: No spectrograms found for statistics computation\")\n",
    "            return 0.0, 1.0\n",
    "\n",
    "def parse_patient_file(file_path):\n",
    "    \"\"\"Parse patient .txt file to extract demographics and labels\"\"\"\n",
    "    with open(file_path, 'r') as f:\n",
    "        lines = f.readlines()\n",
    "    \n",
    "    patient_info = {}\n",
    "    # Parse first line: subject_id, num_recordings, sample_rate\n",
    "    first_line = lines[0].strip().split()\n",
    "    patient_info['subject_id'] = first_line[0]\n",
    "    patient_info['num_recordings'] = int(first_line[1])\n",
    "    patient_info['sample_rate'] = int(first_line[2])\n",
    "    \n",
    "    # Parse recording files info\n",
    "    recordings = []\n",
    "    for i in range(1, patient_info['num_recordings'] + 1):\n",
    "        parts = lines[i].strip().split()\n",
    "        recordings.append({\n",
    "            'location': parts[0],\n",
    "            'hea_file': parts[1],\n",
    "            'wav_file': parts[2],\n",
    "            'tsv_file': parts[3]\n",
    "        })\n",
    "    patient_info['recordings'] = recordings\n",
    "    \n",
    "    # Parse metadata\n",
    "    for line in lines[patient_info['num_recordings'] + 1:]:\n",
    "        if line.startswith('#'):\n",
    "            key_value = line[1:].strip().split(': ', 1)\n",
    "            if len(key_value) == 2:\n",
    "                key, value = key_value\n",
    "                if value != 'nan':\n",
    "                    patient_info[key.lower().replace(' ', '_')] = value\n",
    "                else:\n",
    "                    patient_info[key.lower().replace(' ', '_')] = None\n",
    "    \n",
    "    return patient_info\n",
    "\n",
    "def load_dataset(data_dir):\n",
    "    \"\"\"Load entire dataset and create structured dataframe\"\"\"\n",
    "    data_dir = Path(data_dir)\n",
    "    patients_data = []\n",
    "    \n",
    "    # Get all patient .txt files\n",
    "    patient_files = list(data_dir.glob(\"*.txt\"))\n",
    "    \n",
    "    for patient_file in tqdm(patient_files, desc=\"Loading patient data\"):\n",
    "        try:\n",
    "            patient_info = parse_patient_file(patient_file)\n",
    "            \n",
    "            # Extract key demographic features\n",
    "            demographics = {\n",
    "                'subject_id': patient_info['subject_id'],\n",
    "                'age': patient_info.get('age'),\n",
    "                'sex': patient_info.get('sex'),\n",
    "                'height': patient_info.get('height'),\n",
    "                'weight': patient_info.get('weight'),\n",
    "                'pregnancy_status': patient_info.get('pregnancy_status'),\n",
    "                'outcome': patient_info.get('outcome'),  # Normal/Abnormal\n",
    "                'murmur': patient_info.get('murmur')     # Present/Absent/Unknown\n",
    "            }\n",
    "            \n",
    "            # Add recording file paths\n",
    "            recordings_by_location = {}\n",
    "            for rec in patient_info['recordings']:\n",
    "                location = rec['location']\n",
    "                if location in ['AV', 'PV', 'TV', 'MV']:  # Only use main 4 locations\n",
    "                    if location not in recordings_by_location:\n",
    "                        recordings_by_location[location] = []\n",
    "                    recordings_by_location[location].append(data_dir / rec['wav_file'])\n",
    "            \n",
    "            demographics['recordings'] = recordings_by_location\n",
    "            patients_data.append(demographics)\n",
    "            \n",
    "        except Exception as e:\n",
    "            print(f\"Error processing {patient_file}: {e}\")\n",
    "            continue\n",
    "    \n",
    "    return patients_data\n"
   ]
  },
  {
   "cell_type": "code",
   "execution_count": 2,
   "id": "21feb12c",
   "metadata": {},
   "outputs": [],
   "source": [
    "# Cell 2: Dataset Class\n",
    "\n",
    "class HeartSoundDataset(Dataset):\n",
    "    \"\"\"Dataset class for heart sound classification\"\"\"\n",
    "    \n",
    "    def __init__(self, patients_data, preprocessor=None, demographic_scaler=None):\n",
    "        self.patients_data = patients_data\n",
    "        self.preprocessor = preprocessor if preprocessor else AudioPreprocessor()\n",
    "        self.demographic_scaler = demographic_scaler\n",
    "        self.locations = ['AV', 'PV', 'TV', 'MV']\n",
    "        \n",
    "        # Filter out patients without outcome labels\n",
    "        self.valid_patients = [p for p in patients_data if p.get('outcome') in ['Normal', 'Abnormal']]\n",
    "        \n",
    "    def __len__(self):\n",
    "        return len(self.valid_patients)\n",
    "    \n",
    "    def __getitem__(self, idx):\n",
    "        patient = self.valid_patients[idx]\n",
    "\n",
    "        # Process audio for each location\n",
    "        location_embeddings = {}\n",
    "        \n",
    "        for location in self.locations:\n",
    "            if location in patient.get('recordings', {}):\n",
    "                # Get all recordings for this location\n",
    "                recording_files = patient['recordings'][location]\n",
    "                \n",
    "                all_clips_embeddings = []\n",
    "                \n",
    "                for audio_file in recording_files:\n",
    "                    try:\n",
    "                        # Load audio\n",
    "                        audio, sr = librosa.load(audio_file, sr=self.preprocessor.sample_rate)\n",
    "                        \n",
    "                        # Split into 5-second clips\n",
    "                        clips = self.preprocessor.split_into_5s_clips(audio, sr)\n",
    "                        \n",
    "                        # Process each clip\n",
    "                        for clip in clips:\n",
    "                            mel_spec = self.preprocessor.audio_to_melspec(clip)\n",
    "                            # Convert to tensor and add channel dimension\n",
    "                            mel_tensor = torch.FloatTensor(mel_spec).unsqueeze(0)\n",
    "                            all_clips_embeddings.append(mel_tensor)\n",
    "                            \n",
    "                    except Exception as e:\n",
    "                        print(f\"Error processing {audio_file}: {e}\")\n",
    "                        continue\n",
    "                \n",
    "                if all_clips_embeddings:\n",
    "                    # Stack all clips for this location\n",
    "                    location_embeddings[location] = torch.stack(all_clips_embeddings)\n",
    "                else:\n",
    "                    # Create dummy tensor if no valid clips\n",
    "                    location_embeddings[location] = torch.zeros(1, 1, self.preprocessor.n_mels, \n",
    "                                                              self.preprocessor.n_mels)\n",
    "            else:\n",
    "                # Create dummy tensor for missing location\n",
    "                location_embeddings[location] = torch.zeros(1, 1, self.preprocessor.n_mels, \n",
    "                                                          self.preprocessor.n_mels)\n",
    "        \n",
    "        # Process demographics\n",
    "        demographics = self.process_demographics(patient)\n",
    "        \n",
    "        # Create label (1 for Abnormal, 0 for Normal)\n",
    "        label = 1 if patient['outcome'] == 'Abnormal' else 0\n",
    "        \n",
    "        return location_embeddings, demographics, label\n",
    "    \n",
    "    def process_demographics(self, patient):\n",
    "        \"\"\"Process demographic information into numerical features\"\"\"\n",
    "        # Extract and encode demographic features\n",
    "        features = []\n",
    "        \n",
    "        # Height (convert to float or use median if missing)\n",
    "        try:\n",
    "            height = float(patient.get('height', 120.0))  # median height in dataset\n",
    "        except (ValueError, TypeError):\n",
    "            height = 120.0\n",
    "        features.append(height)\n",
    "        \n",
    "        # Weight (convert to float or use median if missing)\n",
    "        try:\n",
    "            weight = float(patient.get('weight', 25.0))  # median weight in dataset\n",
    "        except (ValueError, TypeError):\n",
    "            weight = 25.0\n",
    "        features.append(weight)\n",
    "        \n",
    "        # Sex (0 for Female, 1 for Male)\n",
    "        sex = 1 if patient.get('sex') == 'Male' else 0\n",
    "        features.append(sex)\n",
    "        \n",
    "        # Age (encode age categories as numerical)\n",
    "        age_mapping = {\n",
    "            'Neonate': 0, 'Infant': 1, 'Child': 2, \n",
    "            'Adolescent': 3, 'Young Adult': 4\n",
    "        }\n",
    "        age = age_mapping.get(patient.get('age'), 2)  # default to Child\n",
    "        features.append(age)\n",
    "        \n",
    "        # Pregnancy status (0 for False/None, 1 for True)\n",
    "        pregnancy = 1 if patient.get('pregnancy_status') == 'True' else 0\n",
    "        features.append(pregnancy)\n",
    "        \n",
    "        demographics_tensor = torch.FloatTensor(features)\n",
    "        \n",
    "        # Apply scaling if scaler is provided\n",
    "        # if self.demographic_scaler:\n",
    "        #     demographics_tensor = torch.FloatTensor(\n",
    "        #         self.demographic_scaler.transform(features.reshape(1, -1)).flatten()\n",
    "        #     )\n",
    "\n",
    "        if self.demographic_scaler:\n",
    "            features_np = np.array(features).reshape(1, -1)\n",
    "            demographics_tensor = torch.FloatTensor(\n",
    "                self.demographic_scaler.transform(features_np).flatten()\n",
    "            )\n",
    "        \n",
    "        return demographics_tensor"
   ]
  },
  {
   "cell_type": "code",
   "execution_count": 3,
   "id": "da7b2e90",
   "metadata": {},
   "outputs": [],
   "source": [
    "# Cell 3: Neural Network Models\n",
    "\n",
    "\n",
    "\n",
    "class AudioCNN(nn.Module):\n",
    "    \"\"\"CNN for processing individual audio clips (mel-spectrograms)\"\"\"\n",
    "    \n",
    "    def __init__(self, input_channels=1, embedding_dim=128):\n",
    "        super(AudioCNN, self).__init__()\n",
    "        \n",
    "        self.conv_layers = nn.Sequential(\n",
    "            # First conv block\n",
    "            nn.Conv2d(input_channels, 32, kernel_size=3, padding=1),\n",
    "            nn.BatchNorm2d(32),\n",
    "            nn.ReLU(),\n",
    "            nn.MaxPool2d(2, 2),\n",
    "            nn.Dropout(0.25/2),\n",
    "            \n",
    "            # Second conv block\n",
    "            nn.Conv2d(32, 64, kernel_size=3, padding=1),\n",
    "            nn.BatchNorm2d(64),\n",
    "            nn.ReLU(),\n",
    "            nn.MaxPool2d(2, 2),\n",
    "            nn.Dropout(0.25/2),\n",
    "            \n",
    "            # Third conv block\n",
    "            nn.Conv2d(64, 128, kernel_size=3, padding=1),\n",
    "            nn.BatchNorm2d(128),\n",
    "            nn.ReLU(),\n",
    "            nn.MaxPool2d(2, 2),\n",
    "            nn.Dropout(0.25/2),\n",
    "            \n",
    "            # Fourth conv block\n",
    "            nn.Conv2d(128, 256, kernel_size=3, padding=1),\n",
    "            nn.BatchNorm2d(256),\n",
    "            nn.ReLU(),\n",
    "            nn.AdaptiveAvgPool2d((4, 4)),\n",
    "            nn.Dropout(0.5/2)\n",
    "        )\n",
    "        \n",
    "        # Calculate the flattened size\n",
    "        self.flattened_size = 256 * 4 * 4\n",
    "        \n",
    "        self.fc_layers = nn.Sequential(\n",
    "            nn.Linear(self.flattened_size, 512),\n",
    "            nn.ReLU(),\n",
    "            nn.Dropout(0.5/2),\n",
    "            nn.Linear(512, embedding_dim)\n",
    "        )\n",
    "    \n",
    "    def forward(self, x):\n",
    "        x = self.conv_layers(x)\n",
    "        x = x.view(x.size(0), -1)  # Flatten\n",
    "        x = self.fc_layers(x)\n",
    "        return x\n",
    "\n",
    "class DemographicMLP(nn.Module):\n",
    "    \"\"\"MLP for processing demographic features\"\"\"\n",
    "    \n",
    "    def __init__(self, input_dim=5, embedding_dim=128):\n",
    "        super(DemographicMLP, self).__init__()\n",
    "        \n",
    "        self.layers = nn.Sequential(\n",
    "            nn.Linear(input_dim, 64),\n",
    "            nn.ReLU(),\n",
    "            nn.Dropout(0.3/2),\n",
    "            nn.Linear(64, 128),\n",
    "            nn.ReLU(),\n",
    "            nn.Dropout(0.3/2),\n",
    "            nn.Linear(128, embedding_dim)\n",
    "        )\n",
    "    \n",
    "    def forward(self, x):\n",
    "        return self.layers(x)\n",
    "\n",
    "class MultiHeadAttention(nn.Module):\n",
    "    \"\"\"Multi-head attention mechanism for combining location embeddings\"\"\"\n",
    "    \n",
    "    def __init__(self, embed_dim=128, num_heads=8, ff_dim=512, dropout=0.1):\n",
    "        super(MultiHeadAttention, self).__init__()\n",
    "        self.multihead_attn = nn.MultiheadAttention(embed_dim, num_heads, batch_first=True)\n",
    "        #self.layer_norm = nn.LayerNorm(embed_dim)\n",
    "        # CHAT SUGG 2\n",
    "        self.layer_norm1 = nn.LayerNorm(embed_dim)\n",
    "        self.layer_norm2 = nn.LayerNorm(embed_dim)\n",
    "\n",
    "        self.ffn = nn.Sequential(\n",
    "            nn.Linear(embed_dim, ff_dim),\n",
    "            nn.ReLU(),\n",
    "            nn.Dropout(dropout),\n",
    "            nn.Linear(ff_dim, embed_dim),\n",
    "            nn.Dropout(dropout)\n",
    "        )\n",
    "\n",
    "    # def forward(self, x):\n",
    "    #     # x shape: (batch_size, num_locations, embed_dim)\n",
    "    #     attn_output, attn_weights = self.multihead_attn(x, x, x)\n",
    "    #     # Add residual connection and layer normalization\n",
    "    #     output = self.layer_norm(x + attn_output)\n",
    "    #     return output\n",
    "    \n",
    "    # def forward(self, x):\n",
    "    #     # x shape: (batch_size, num_locations, embed_dim)\n",
    "    #     attn_output, attn_weights = self.multihead_attn(x, x, x)\n",
    "    #     # Add residual connection and layer normalization\n",
    "    #     output = self.layer_norm(x + attn_output)\n",
    "    #     return output, attn_weights\n",
    "\n",
    "    # # CHAT GPT SUGGESTION 1\n",
    "    # def forward(self, x): \n",
    "    #     x_norm = self.layer_norm(x)\n",
    "    #     attn_output, attn_weights = self.multihead_attn(x_norm, x_norm, x_norm)\n",
    "    #     output = x + attn_output\n",
    "    #     return output, attn_weights\n",
    "\n",
    "    # CHAT GPT SUGGESTION 2\n",
    "    def forward(self, x):\n",
    "        # ---- Multi-head attention sublayer ----\n",
    "        # Pre-LN\n",
    "        x_norm = self.layer_norm1(x)\n",
    "        attn_output, attn_weights = self.multihead_attn(x_norm, x_norm, x_norm)\n",
    "        x = x + attn_output  # Residual connection\n",
    "\n",
    "        # ---- Feed-forward sublayer ----\n",
    "        x_norm = self.layer_norm2(x)\n",
    "        ff_output = self.ffn(x_norm)\n",
    "        x = x + ff_output  # Residual connection\n",
    "\n",
    "        return x, attn_weights"
   ]
  },
  {
   "cell_type": "code",
   "execution_count": 4,
   "id": "e62d6f71",
   "metadata": {},
   "outputs": [],
   "source": [
    "\n",
    "# Cell 4: Training and Evaluation Functions\n",
    "\n",
    "def custom_collate_fn(batch):\n",
    "    \"\"\"Custom collate function to handle variable number of clips per location\"\"\"\n",
    "    location_data = {loc: [] for loc in ['AV', 'PV', 'TV', 'MV']}\n",
    "    demographics = []\n",
    "    labels = []\n",
    "    \n",
    "    for location_dict, demo, label in batch:\n",
    "        # Collect demographics and labels\n",
    "        demographics.append(demo)\n",
    "        labels.append(label)\n",
    "        \n",
    "        # Collect location data\n",
    "        for loc in ['AV', 'PV', 'TV', 'MV']:\n",
    "            location_data[loc].append(location_dict[loc])\n",
    "    \n",
    "    # Stack tensors\n",
    "    demographics_tensor = torch.stack(demographics)\n",
    "    labels_tensor = torch.LongTensor(labels)\n",
    "    \n",
    "    return location_data, demographics_tensor, labels_tensor\n",
    "\n",
    "from sklearn.metrics import roc_auc_score, f1_score\n",
    "\n",
    "def train_epoch(model, train_loader, criterion, optimizer, device):\n",
    "    \"\"\"Train model for one epoch\"\"\"\n",
    "    model.train()\n",
    "    total_loss = 0\n",
    "    correct_predictions = 0\n",
    "    total_samples = 0\n",
    "    all_predictions = []\n",
    "    all_probs = []\n",
    "    all_labels = []\n",
    "\n",
    "    for batch_idx, (location_data, demographics, labels) in enumerate(tqdm(train_loader, desc=\"Training\")):\n",
    "\n",
    "        demographics = demographics.to(device)\n",
    "        labels = labels.to(device)\n",
    "        \n",
    "        for loc in location_data:\n",
    "            for i in range(len(location_data[loc])):\n",
    "                location_data[loc][i] = location_data[loc][i].to(device)\n",
    "\n",
    "        optimizer.zero_grad()\n",
    "\n",
    "        outputs = model(location_data, demographics)\n",
    "        loss = criterion(outputs, labels)\n",
    "\n",
    "        loss.backward()\n",
    "        optimizer.step()\n",
    "        \n",
    "        total_loss += loss.item()\n",
    "        probs = torch.softmax(outputs, dim=1)[:, 1]\n",
    "        _, predicted = torch.max(outputs.data, 1)\n",
    "        total_samples += labels.size(0)\n",
    "        correct_predictions += (predicted == labels).sum().item()\n",
    "\n",
    "        all_predictions.extend(predicted.cpu().numpy())\n",
    "        all_probs.extend(probs.detach().cpu().numpy())\n",
    "        all_labels.extend(labels.cpu().numpy())\n",
    "        \n",
    "        if batch_idx % 10 == 0:\n",
    "            print(f'Batch {batch_idx}/{len(train_loader)}, Loss: {loss.item():.4f}')\n",
    "    \n",
    "    avg_loss = total_loss / len(train_loader)\n",
    "    accuracy = correct_predictions / total_samples\n",
    "\n",
    "    try:\n",
    "        auc = roc_auc_score(all_labels, all_probs)\n",
    "    except ValueError:\n",
    "        auc = float('nan')\n",
    "    f1 = f1_score(all_labels, all_predictions)\n",
    "\n",
    "    return avg_loss, accuracy, auc, f1\n",
    "\n",
    "\n",
    "def evaluate_model(model, test_loader, criterion, device):\n",
    "    \"\"\"Evaluate model on given dataset\"\"\"\n",
    "    model.eval()\n",
    "    total_loss = 0\n",
    "    correct_predictions = 0\n",
    "    total_samples = 0\n",
    "    all_predictions = []\n",
    "    all_probs = []\n",
    "    all_labels = []\n",
    "\n",
    "    with torch.no_grad():\n",
    "        for location_data, demographics, labels in tqdm(test_loader, desc=\"Evaluating\"):\n",
    "            demographics = demographics.to(device)\n",
    "            labels = labels.to(device)\n",
    "            \n",
    "            for loc in location_data:\n",
    "                for i in range(len(location_data[loc])):\n",
    "                    location_data[loc][i] = location_data[loc][i].to(device)\n",
    "\n",
    "            outputs = model(location_data, demographics)\n",
    "            loss = criterion(outputs, labels)\n",
    "            \n",
    "            total_loss += loss.item()\n",
    "            probs = torch.softmax(outputs, dim=1)[:, 1]\n",
    "            _, predicted = torch.max(outputs.data, 1)\n",
    "            total_samples += labels.size(0)\n",
    "            correct_predictions += (predicted == labels).sum().item()\n",
    "\n",
    "            all_predictions.extend(predicted.cpu().numpy())\n",
    "            all_probs.extend(probs.detach().cpu().numpy())\n",
    "            all_labels.extend(labels.cpu().numpy())\n",
    "    \n",
    "    avg_loss = total_loss / len(test_loader)\n",
    "    accuracy = correct_predictions / total_samples\n",
    "\n",
    "    try:\n",
    "        auc = roc_auc_score(all_labels, all_probs)\n",
    "    except ValueError:\n",
    "        auc = float('nan')\n",
    "    f1 = f1_score(all_labels, all_predictions)\n",
    "\n",
    "    return avg_loss, accuracy, auc, f1, all_predictions, all_labels\n",
    "\n",
    "def plot_training_history(train_losses, train_accuracies, val_losses, val_accuracies):\n",
    "    \"\"\"Plot training history\"\"\"\n",
    "    plt.figure(figsize=(15, 5))\n",
    "    \n",
    "    plt.subplot(1, 2, 1)\n",
    "    plt.plot(train_losses, label='Train Loss')\n",
    "    plt.plot(val_losses, label='Validation Loss')\n",
    "    plt.title('Training and Validation Loss')\n",
    "    plt.xlabel('Epoch')\n",
    "    plt.ylabel('Loss')\n",
    "    plt.legend()\n",
    "    plt.grid(True)\n",
    "    \n",
    "    plt.subplot(1, 2, 2)\n",
    "    plt.plot(train_accuracies, label='Train Accuracy')\n",
    "    plt.plot(val_accuracies, label='Validation Accuracy')\n",
    "    plt.title('Training and Validation Accuracy')\n",
    "    plt.xlabel('Epoch')\n",
    "    plt.ylabel('Accuracy')\n",
    "    plt.legend()\n",
    "    plt.grid(True)\n",
    "    \n",
    "    plt.tight_layout()\n",
    "    plt.show()"
   ]
  },
  {
   "cell_type": "code",
   "execution_count": 5,
   "id": "94915f62",
   "metadata": {},
   "outputs": [],
   "source": [
    "\n",
    "# Cell 5: Main Training Pipeline\n",
    "\n",
    "def main_training_pipeline(data_dir, batch_size=8, num_epochs=50, learning_rate=0.001):\n",
    "    \"\"\"Complete training pipeline\"\"\"\n",
    "\n",
    "    print(\"Loading dataset...\")\n",
    "    patients_data = load_dataset(data_dir)\n",
    "    print(f\"Loaded {len(patients_data)} patients\")\n",
    "\n",
    "    train_data, temp_data = train_test_split(\n",
    "        patients_data, test_size=0.4, random_state=42, \n",
    "        stratify=[p.get('outcome', 'Unknown') for p in patients_data]\n",
    "    )\n",
    "    val_data, test_data = train_test_split(\n",
    "        temp_data, test_size=0.5, random_state=42,\n",
    "        stratify=[p.get('outcome', 'Unknown') for p in temp_data]\n",
    "    )\n",
    "\n",
    "    print(f\"Train: {len(train_data)}, Validation: {len(val_data)}, Test: {len(test_data)}\")\n",
    "\n",
    "    preprocessor = AudioPreprocessor(normalization_method='zscore')\n",
    "\n",
    "    all_demographics = []\n",
    "    for patient in train_data:\n",
    "        if patient.get('outcome') in ['Normal', 'Abnormal']:\n",
    "            features = []\n",
    "            features.append(float(patient.get('height', 120.0)) if patient.get('height') else 120.0)\n",
    "            features.append(float(patient.get('weight', 25.0)) if patient.get('weight') else 25.0)\n",
    "            features.append(1 if patient.get('sex') == 'Male' else 0)\n",
    "            age_mapping = {'Neonate': 0, 'Infant': 1, 'Child': 2, 'Adolescent': 3, 'Young Adult': 4}\n",
    "            features.append(age_mapping.get(patient.get('age'), 2))\n",
    "            features.append(1 if patient.get('pregnancy_status') == 'True' else 0)\n",
    "            all_demographics.append(features)\n",
    "\n",
    "    demographic_scaler = StandardScaler()\n",
    "    demographic_scaler.fit(all_demographics)\n",
    "\n",
    "    train_dataset = HeartSoundDataset(train_data, preprocessor, demographic_scaler)\n",
    "    val_dataset = HeartSoundDataset(val_data, preprocessor, demographic_scaler)\n",
    "    test_dataset = HeartSoundDataset(test_data, preprocessor, demographic_scaler)\n",
    "\n",
    "    train_loader = DataLoader(train_dataset, batch_size=batch_size, shuffle=True, \n",
    "                              collate_fn=custom_collate_fn, num_workers=0)\n",
    "    val_loader = DataLoader(val_dataset, batch_size=batch_size, shuffle=False, \n",
    "                            collate_fn=custom_collate_fn, num_workers=0)\n",
    "    test_loader = DataLoader(test_dataset, batch_size=batch_size, shuffle=False, \n",
    "                             collate_fn=custom_collate_fn, num_workers=0)\n",
    "\n",
    "    device = torch.device('cuda' if torch.cuda.is_available() else 'cpu')\n",
    "    print(f\"Using device: {device}\")\n",
    "\n",
    "    model = HeartSoundClassifier(embedding_dim=128, num_classes=2)\n",
    "    model.to(device)\n",
    "\n",
    "    criterion = nn.CrossEntropyLoss()\n",
    "    optimizer = torch.optim.Adam(model.parameters(), lr=learning_rate, weight_decay=1e-4)\n",
    "    scheduler = torch.optim.lr_scheduler.ReduceLROnPlateau(optimizer, mode='min', patience=5, factor=0.5)\n",
    "\n",
    "    train_losses, train_accuracies, train_aucs, train_f1s = [], [], [], []\n",
    "    val_losses, val_accuracies, val_aucs, val_f1s = [], [], [], []\n",
    "\n",
    "    best_val_auc = 0.0\n",
    "    patience_counter = 0\n",
    "    patience_limit = 10\n",
    "\n",
    "    print(\"Starting training...\")\n",
    "    for epoch in range(num_epochs):\n",
    "        print(f\"\\nEpoch {epoch+1}/{num_epochs}\")\n",
    "        print(\"-\" * 50)\n",
    "\n",
    "        train_loss, train_acc, train_auc, train_f1 = train_epoch(model, train_loader, criterion, optimizer, device)\n",
    "        val_loss, val_acc, val_auc, val_f1, val_predictions, val_labels = evaluate_model(model, val_loader, criterion, device)\n",
    "\n",
    "        train_losses.append(train_loss)\n",
    "        train_accuracies.append(train_acc)\n",
    "        train_aucs.append(train_auc)\n",
    "        train_f1s.append(train_f1)\n",
    "\n",
    "        val_losses.append(val_loss)\n",
    "        val_accuracies.append(val_acc)\n",
    "        val_aucs.append(val_auc)\n",
    "        val_f1s.append(val_f1)\n",
    "\n",
    "        scheduler.step(val_loss)\n",
    "\n",
    "        print(f\"Train Loss: {train_loss:.4f}, Train Acc: {train_acc:.4f}, Train AUC: {train_auc:.4f}, Train F1: {train_f1:.4f}\")\n",
    "        print(f\"Val Loss: {val_loss:.4f}, Val Acc: {val_acc:.4f}, Val AUC: {val_auc:.4f}, Val F1: {val_f1:.4f}\")\n",
    "        print(\"\\nClassification Report:\")\n",
    "        print(classification_report(val_labels, val_predictions, target_names=['Normal', 'Abnormal']))\n",
    "\n",
    "        if val_auc > best_val_auc:\n",
    "            best_val_auc = val_auc\n",
    "            patience_counter = 0\n",
    "            torch.save(model.state_dict(), 'best_heart_sound_model.pth')\n",
    "            print(f\"New best validation AUC: {best_val_auc:.4f}\")\n",
    "        else:\n",
    "            patience_counter += 1\n",
    "            if patience_counter >= patience_limit:\n",
    "                print(f\"Early stopping triggered after {epoch+1} epochs\")\n",
    "                break\n",
    "\n",
    "    model.load_state_dict(torch.load('best_heart_sound_model.pth'))\n",
    "\n",
    "    print(\"\\nEvaluating on test set...\")\n",
    "    test_loss, test_acc, test_auc, test_f1, test_predictions, test_labels = evaluate_model(model, test_loader, criterion, device)\n",
    "    \n",
    "    print(f\"Test Loss: {test_loss:.4f}, Test Acc: {test_acc:.4f}, Test AUC: {test_auc:.4f}, Test F1: {test_f1:.4f}\")\n",
    "    print(\"\\nClassification Report:\")\n",
    "    print(classification_report(test_labels, test_predictions, target_names=['Normal', 'Abnormal']))\n",
    "\n",
    "    plot_training_history(train_losses, train_accuracies, val_losses, val_accuracies)\n",
    "    plot_confusion_matrix(test_labels, test_predictions)\n",
    "    viz = quick_visualization_setup(model, device, test_loader)\n",
    "\n",
    "    return model, preprocessor, demographic_scaler, viz\n",
    "\n",
    "\n",
    "\n",
    "def plot_confusion_matrix(y_true, y_pred, classes=['Normal', 'Abnormal']):\n",
    "    \"\"\"Plot confusion matrix\"\"\"\n",
    "    cm = confusion_matrix(y_true, y_pred)\n",
    "    plt.figure(figsize=(8, 6))\n",
    "    sns.heatmap(cm, annot=True, fmt='d', cmap='Blues', xticklabels=classes, yticklabels=classes)\n",
    "    plt.title('Confusion Matrix')\n",
    "    plt.ylabel('True Label')\n",
    "    plt.xlabel('Predicted Label')\n",
    "    plt.show()#, attn_weights\n",
    "\n",
    "class HeartSoundClassifier(nn.Module):\n",
    "    \"\"\"Complete heart sound classification model\"\"\"\n",
    "    \n",
    "    def __init__(self, embedding_dim=128, num_classes=2):\n",
    "        super(HeartSoundClassifier, self).__init__()\n",
    "        \n",
    "        self.embedding_dim = embedding_dim\n",
    "        self.locations = ['AV', 'PV', 'TV', 'MV']\n",
    "        \n",
    "        # CNN for processing audio clips\n",
    "        self.audio_cnn = AudioCNN(embedding_dim=embedding_dim)\n",
    "        \n",
    "        # MLP for processing demographics\n",
    "        self.demographic_mlp = DemographicMLP(embedding_dim=embedding_dim)\n",
    "        \n",
    "        # Attention mechanism\n",
    "        self.attention = MultiHeadAttention(embed_dim=embedding_dim)\n",
    "        \n",
    "        # Final classification layers\n",
    "        # 5 embeddings (4 locations + demographics) * embedding_dim\n",
    "        self.classifier = nn.Sequential(\n",
    "            nn.Linear(5 * embedding_dim, 512),\n",
    "            nn.ReLU(),\n",
    "            nn.Dropout(0.5/2),\n",
    "            nn.Linear(512, 256),\n",
    "            nn.ReLU(),\n",
    "            nn.Dropout(0.5/2),\n",
    "            nn.Linear(256, num_classes)\n",
    "        )\n",
    "    \n",
    "    def forward(self, location_data, demographics):\n",
    "        batch_size = demographics.size(0)\n",
    "        location_embeddings = []\n",
    "        \n",
    "        # Process each location\n",
    "        for location in self.locations:\n",
    "            location_clips = location_data[location]  # Shape: (batch_size, num_clips, channels, height, width)\n",
    "            \n",
    "            # Process all clips for this location in the batch\n",
    "            batch_location_embeddings = []\n",
    "            \n",
    "            for b in range(batch_size):\n",
    "                clips = location_clips[b]  # Shape: (num_clips, channels, height, width)\n",
    "                \n",
    "                if clips.size(0) > 0:\n",
    "                    # Process all clips through CNN\n",
    "                    clip_embeddings = self.audio_cnn(clips)  # Shape: (num_clips, embedding_dim)\n",
    "                    # Take mean across clips to get location embedding\n",
    "                    location_embedding = clip_embeddings.mean(dim=0)  # Shape: (embedding_dim,) #YOSSI CHANGE\n",
    "                    #location_embedding, _ = torch.max(clip_embeddings, dim=0) #CHAT SUGGESTIONS\n",
    "                    #print(f\"first 5 {clip_embeddings[:,0:5]}, mean: {location_embedding[0:5]}\")\n",
    "                    #location_embedding = clip_embeddings[0]  # Shape: (embedding_dim,)\n",
    "                else:\n",
    "                    # Handle case where no clips are available\n",
    "                    location_embedding = torch.zeros(self.embedding_dim, device=demographics.device)\n",
    "                \n",
    "                batch_location_embeddings.append(location_embedding)\n",
    "            \n",
    "            # Stack embeddings for all samples in batch\n",
    "            batch_location_tensor = torch.stack(batch_location_embeddings)  # Shape: (batch_size, embedding_dim)\n",
    "            location_embeddings.append(batch_location_tensor)\n",
    "        \n",
    "        # Process demographics\n",
    "        demographic_embeddings = self.demographic_mlp(demographics)  # Shape: (batch_size, embedding_dim)\n",
    "        \n",
    "        # Combine all embeddings\n",
    "        all_embeddings = location_embeddings + [demographic_embeddings]\n",
    "        combined_embeddings = torch.stack(all_embeddings, dim=1)  # Shape: (batch_size, 5, embedding_dim)\n",
    "        \n",
    "        # Apply attention\n",
    "        attended_embeddings, attention_weights = self.attention(combined_embeddings)\n",
    "        \n",
    "        # Flatten for final classification\n",
    "        flattened = attended_embeddings.view(batch_size, -1)  # Shape: (batch_size, 5 * embedding_dim)\n",
    "        \n",
    "        # Final classification\n",
    "        output = self.classifier(flattened)\n",
    "        \n",
    "        return output"
   ]
  },
  {
   "cell_type": "code",
   "execution_count": 6,
   "id": "21574cf2",
   "metadata": {},
   "outputs": [
    {
     "name": "stdout",
     "output_type": "stream",
     "text": [
      "Model Visualization Toolkit Ready!\n",
      "Usage: viz = quick_visualization_setup(model, device, val_loader)\n"
     ]
    }
   ],
   "source": [
    "# Cell 6: Model Visualization Toolkit\n",
    "# Comprehensive visualization for heart sound classification model\n",
    "\n",
    "import torch\n",
    "import torch.nn as nn\n",
    "import torch.nn.functional as F\n",
    "import numpy as np\n",
    "import matplotlib.pyplot as plt\n",
    "import seaborn as sns\n",
    "from torch.utils.hooks import RemovableHandle\n",
    "import cv2\n",
    "from typing import Dict, List, Tuple, Optional\n",
    "\n",
    "class ModelVisualizer:\n",
    "    \"\"\"Complete visualization toolkit for heart sound model\"\"\"\n",
    "    \n",
    "    def __init__(self, model, device, val_loader=None, test_loader=None):\n",
    "        self.model = model\n",
    "        self.device = device\n",
    "        self.val_loader = val_loader\n",
    "        self.test_loader = test_loader\n",
    "        \n",
    "        # Storage for activations and gradients\n",
    "        self.activations = {}\n",
    "        self.gradients = {}\n",
    "        self.hooks = []\n",
    "        \n",
    "        # Cache for frequently used data\n",
    "        self.cached_samples = None\n",
    "        self.cached_labels = None\n",
    "        self.cached_predictions = None\n",
    "        \n",
    "        print(f\"ModelVisualizer initialized with device: {device}\")\n",
    "        if val_loader:\n",
    "            print(f\"Validation loader: {len(val_loader)} batches\")\n",
    "        if test_loader:\n",
    "            print(f\"Test loader: {len(test_loader)} batches\")\n",
    "    \n",
    "    def cache_samples(self, num_samples=20, use_test=False):\n",
    "        \"\"\"Cache samples for quick visualization without reloading\"\"\"\n",
    "        loader = self.test_loader if use_test else self.val_loader\n",
    "        if loader is None:\n",
    "            print(\"No data loader available!\")\n",
    "            return\n",
    "            \n",
    "        print(f\"Caching {num_samples} samples...\")\n",
    "        \n",
    "        all_location_data = {loc: [] for loc in ['AV', 'PV', 'TV', 'MV']}\n",
    "        all_demographics = []\n",
    "        all_labels = []\n",
    "        all_predictions = []\n",
    "        \n",
    "        self.model.eval()\n",
    "        samples_collected = 0\n",
    "        \n",
    "        with torch.no_grad():\n",
    "            for location_data, demographics, labels in loader:\n",
    "                if samples_collected >= num_samples:\n",
    "                    break\n",
    "                    \n",
    "                # Move to device\n",
    "                demographics = demographics.to(self.device)\n",
    "                labels = labels.to(self.device)\n",
    "                \n",
    "                for loc in location_data:\n",
    "                    for i in range(len(location_data[loc])):\n",
    "                        location_data[loc][i] = location_data[loc][i].to(self.device)\n",
    "                \n",
    "                # Get predictions\n",
    "                outputs = self.model(location_data, demographics)\n",
    "                _, predicted = torch.max(outputs.data, 1)\n",
    "                \n",
    "                # Store data\n",
    "                batch_size = min(labels.size(0), num_samples - samples_collected)\n",
    "                for i in range(batch_size):\n",
    "                    # Store location data\n",
    "                    for loc in ['AV', 'PV', 'TV', 'MV']:\n",
    "                        all_location_data[loc].append(location_data[loc][i])\n",
    "                    \n",
    "                    all_demographics.append(demographics[i])\n",
    "                    all_labels.append(labels[i].item())\n",
    "                    all_predictions.append(predicted[i].item())\n",
    "                    \n",
    "                    samples_collected += 1\n",
    "                    if samples_collected >= num_samples:\n",
    "                        break\n",
    "        \n",
    "        self.cached_samples = all_location_data\n",
    "        self.cached_demographics = torch.stack(all_demographics)\n",
    "        self.cached_labels = all_labels\n",
    "        self.cached_predictions = all_predictions\n",
    "        \n",
    "        print(f\"Cached {len(self.cached_labels)} samples\")\n",
    "        print(f\"Normal: {sum(1 for l in all_labels if l == 0)}, Abnormal: {sum(1 for l in all_labels if l == 1)}\")\n",
    "    \n",
    "    def register_hooks(self):\n",
    "        \"\"\"Register hooks to capture activations and gradients\"\"\"\n",
    "        self.clear_hooks()\n",
    "        \n",
    "        def get_activation(name):\n",
    "            def hook(model, input, output):\n",
    "                if isinstance(output, tuple):\n",
    "                    self.activations[name] = output[0].detach()\n",
    "                else:\n",
    "                    self.activations[name] = output.detach()\n",
    "            return hook\n",
    "        \n",
    "        def get_gradient(name):\n",
    "            def hook(model, grad_input, grad_output):\n",
    "                if isinstance(grad_output[0], torch.Tensor):\n",
    "                    self.gradients[name] = grad_output[0].detach()\n",
    "            return hook\n",
    "        \n",
    "        # Register hooks for key layers\n",
    "        layers_to_hook = {\n",
    "            'cnn_conv1': self.model.audio_cnn.conv_layers[0],  # First conv layer\n",
    "            'cnn_conv2': self.model.audio_cnn.conv_layers[4],  # Second conv layer  \n",
    "            'cnn_conv3': self.model.audio_cnn.conv_layers[8],  # Third conv layer\n",
    "            'cnn_conv4': self.model.audio_cnn.conv_layers[12], # Fourth conv layer\n",
    "            'cnn_fc1': self.model.audio_cnn.fc_layers[0],      # First FC layer\n",
    "            'cnn_output': self.model.audio_cnn.fc_layers[-1],  # CNN output\n",
    "            'demo_mlp': self.model.demographic_mlp.layers[-1], # Demographics MLP output\n",
    "            'attention': self.model.attention.multihead_attn,   # Attention layer\n",
    "            'classifier': self.model.classifier[-1]            # Final classifier\n",
    "        }\n",
    "        \n",
    "        for name, layer in layers_to_hook.items():\n",
    "            handle = layer.register_forward_hook(get_activation(name))\n",
    "            self.hooks.append(handle)\n",
    "            handle = layer.register_backward_hook(get_gradient(name))\n",
    "            self.hooks.append(handle)\n",
    "    \n",
    "    def clear_hooks(self):\n",
    "        \"\"\"Remove all registered hooks\"\"\"\n",
    "        for hook in self.hooks:\n",
    "            hook.remove()\n",
    "        self.hooks = []\n",
    "        self.activations = {}\n",
    "        self.gradients = {}\n",
    "    \n",
    "    def visualize_attention_weights(self, sample_indices=None, num_samples=6):\n",
    "        \"\"\"Visualize attention weights for cached samples\"\"\"\n",
    "        if self.cached_samples is None:\n",
    "            print(\"No cached samples! Call cache_samples() first.\")\n",
    "            return\n",
    "        \n",
    "        if sample_indices is None:\n",
    "            sample_indices = list(range(min(num_samples, len(self.cached_labels))))\n",
    "        \n",
    "        # Modify model to return attention weights\n",
    "        original_forward = self.model.forward\n",
    "        attention_weights_storage = []\n",
    "        \n",
    "        def forward_with_attention(location_data, demographics):\n",
    "            batch_size = demographics.size(0)\n",
    "            location_embeddings = []\n",
    "            \n",
    "            for location in self.model.locations:\n",
    "                location_clips = location_data[location]\n",
    "                batch_location_embeddings = []\n",
    "                \n",
    "                for b in range(batch_size):\n",
    "                    clips = location_clips[b]\n",
    "                    if clips.size(0) > 0:\n",
    "                        clip_embeddings = self.model.audio_cnn(clips)\n",
    "                        location_embedding = clip_embeddings.mean(dim=0)\n",
    "                    else:\n",
    "                        location_embedding = torch.zeros(self.model.embedding_dim, device=demographics.device)\n",
    "                    batch_location_embeddings.append(location_embedding)\n",
    "                \n",
    "                batch_location_tensor = torch.stack(batch_location_embeddings)\n",
    "                location_embeddings.append(batch_location_tensor)\n",
    "            \n",
    "            demographic_embeddings = self.model.demographic_mlp(demographics)\n",
    "            all_embeddings = location_embeddings + [demographic_embeddings]\n",
    "            combined_embeddings = torch.stack(all_embeddings, dim=1)\n",
    "            \n",
    "            attended_embeddings, attn_weights = self.model.attention(combined_embeddings)\n",
    "            attention_weights_storage.extend(attn_weights.detach().cpu().numpy())\n",
    "            \n",
    "            flattened = attended_embeddings.view(batch_size, -1)\n",
    "            output = self.model.classifier(flattened)\n",
    "            return output\n",
    "        \n",
    "        self.model.forward = forward_with_attention\n",
    "        \n",
    "        # Process samples\n",
    "        location_names = ['AV', 'PV', 'TV', 'MV', 'Demographics']\n",
    "        fig, axes = plt.subplots(2, 3, figsize=(18, 12))\n",
    "        axes = axes.flatten()\n",
    "        \n",
    "        with torch.no_grad():\n",
    "            for idx, sample_idx in enumerate(sample_indices[:6]):\n",
    "                if idx >= len(axes):\n",
    "                    break\n",
    "                \n",
    "                # Prepare single sample\n",
    "                single_location_data = {}\n",
    "                for loc in ['AV', 'PV', 'TV', 'MV']:\n",
    "                    single_location_data[loc] = [self.cached_samples[loc][sample_idx].unsqueeze(0)]\n",
    "                \n",
    "                single_demographics = self.cached_demographics[sample_idx:sample_idx+1]\n",
    "                \n",
    "                # Forward pass\n",
    "                _ = self.model(single_location_data, single_demographics)\n",
    "                \n",
    "                # Get attention weights\n",
    "                attn = attention_weights_storage[idx]\n",
    "                if len(attn.shape) == 3:\n",
    "                    attn = attn.mean(axis=0)[0]\n",
    "                elif len(attn.shape) == 2:\n",
    "                    attn = attn[0]\n",
    "                \n",
    "                # Plot\n",
    "                sns.heatmap(attn.reshape(1, -1), \n",
    "                           annot=True, fmt='.3f', cmap='viridis',\n",
    "                           xticklabels=location_names, yticklabels=['Attention'],\n",
    "                           ax=axes[idx], cbar_kws={'shrink': 0.8})\n",
    "                \n",
    "                true_label = \"Normal\" if self.cached_labels[sample_idx] == 0 else \"Abnormal\"\n",
    "                pred_label = \"Normal\" if self.cached_predictions[sample_idx] == 0 else \"Abnormal\"\n",
    "                \n",
    "                axes[idx].set_title(f'Sample {sample_idx}\\nTrue: {true_label}, Pred: {pred_label}')\n",
    "        \n",
    "        # Hide unused subplots\n",
    "        for i in range(len(sample_indices), len(axes)):\n",
    "            axes[i].set_visible(False)\n",
    "        \n",
    "        plt.tight_layout()\n",
    "        plt.suptitle('Attention Weights Visualization', fontsize=16, y=1.02)\n",
    "        plt.show()\n",
    "        \n",
    "        # Restore original forward\n",
    "        self.model.forward = original_forward\n",
    "        \n",
    "        return attention_weights_storage\n",
    "    \n",
    "    def visualize_cnn_features(self, sample_idx=0, location='AV', layer_name='cnn_conv3'):\n",
    "        \"\"\"Visualize CNN feature maps for a specific sample and location\"\"\"\n",
    "        if self.cached_samples is None:\n",
    "            print(\"No cached samples! Call cache_samples() first.\")\n",
    "            return\n",
    "        \n",
    "        self.register_hooks()\n",
    "        self.model.eval()\n",
    "        \n",
    "        # Get sample\n",
    "        clips = self.cached_samples[location][sample_idx]\n",
    "        if clips.size(0) == 0:\n",
    "            print(f\"No clips available for location {location}\")\n",
    "            return\n",
    "        \n",
    "        # Forward pass through CNN only\n",
    "        with torch.no_grad():\n",
    "            _ = self.model.audio_cnn(clips)\n",
    "        \n",
    "        # Get activations\n",
    "        if layer_name not in self.activations:\n",
    "            print(f\"Layer {layer_name} not found in activations\")\n",
    "            print(f\"Available layers: {list(self.activations.keys())}\")\n",
    "            return\n",
    "        \n",
    "        features = self.activations[layer_name]\n",
    "        \n",
    "        # Plot feature maps\n",
    "        if len(features.shape) == 4:  # Conv layer: [batch, channels, height, width]\n",
    "            num_filters = min(16, features.shape[1])  # Show up to 16 filters\n",
    "            fig, axes = plt.subplots(4, 4, figsize=(16, 16))\n",
    "            axes = axes.flatten()\n",
    "            \n",
    "            for i in range(num_filters):\n",
    "                feature_map = features[0, i].cpu().numpy()  # First clip, i-th filter\n",
    "                \n",
    "                im = axes[i].imshow(feature_map, cmap='viridis', aspect='auto')\n",
    "                axes[i].set_title(f'Filter {i}')\n",
    "                axes[i].axis('off')\n",
    "                plt.colorbar(im, ax=axes[i], shrink=0.8)\n",
    "            \n",
    "            # Hide unused subplots\n",
    "            for i in range(num_filters, len(axes)):\n",
    "                axes[i].set_visible(False)\n",
    "                \n",
    "            plt.suptitle(f'CNN Features - {location} - {layer_name}', fontsize=16)\n",
    "            plt.tight_layout()\n",
    "            plt.show()\n",
    "            \n",
    "        elif len(features.shape) == 2:  # FC layer: [batch, features]\n",
    "            feature_vector = features[0].cpu().numpy()  # First clip\n",
    "            \n",
    "            plt.figure(figsize=(12, 4))\n",
    "            plt.plot(feature_vector)\n",
    "            plt.title(f'Feature Vector - {location} - {layer_name}')\n",
    "            plt.xlabel('Feature Index')\n",
    "            plt.ylabel('Activation Value')\n",
    "            plt.grid(True)\n",
    "            plt.show()\n",
    "        \n",
    "        self.clear_hooks()\n",
    "    \n",
    "    def compare_features_by_class(self, layer_name='cnn_output', location='AV'):\n",
    "        \"\"\"Compare feature distributions between Normal and Abnormal cases\"\"\"\n",
    "        if self.cached_samples is None:\n",
    "            print(\"No cached samples! Call cache_samples() first.\")\n",
    "            return\n",
    "        \n",
    "        self.register_hooks()\n",
    "        self.model.eval()\n",
    "        \n",
    "        normal_features = []\n",
    "        abnormal_features = []\n",
    "        \n",
    "        with torch.no_grad():\n",
    "            for i, label in enumerate(self.cached_labels):\n",
    "                clips = self.cached_samples[location][i]\n",
    "                if clips.size(0) > 0:\n",
    "                    _ = self.model.audio_cnn(clips)\n",
    "                    \n",
    "                    if layer_name in self.activations:\n",
    "                        features = self.activations[layer_name][0].cpu().numpy()  # First clip\n",
    "                        \n",
    "                        if label == 0:\n",
    "                            normal_features.append(features)\n",
    "                        else:\n",
    "                            abnormal_features.append(features)\n",
    "        \n",
    "        if normal_features and abnormal_features:\n",
    "            normal_features = np.array(normal_features)\n",
    "            abnormal_features = np.array(abnormal_features)\n",
    "            \n",
    "            # Plot feature distributions\n",
    "            fig, axes = plt.subplots(1, 3, figsize=(18, 5))\n",
    "            \n",
    "            # Average features\n",
    "            axes[0].plot(np.mean(normal_features, axis=0), label='Normal', alpha=0.7)\n",
    "            axes[0].plot(np.mean(abnormal_features, axis=0), label='Abnormal', alpha=0.7)\n",
    "            axes[0].set_title('Average Feature Values')\n",
    "            axes[0].set_xlabel('Feature Index')\n",
    "            axes[0].set_ylabel('Mean Activation')\n",
    "            axes[0].legend()\n",
    "            axes[0].grid(True)\n",
    "            \n",
    "            # Feature variance\n",
    "            axes[1].plot(np.std(normal_features, axis=0), label='Normal', alpha=0.7)\n",
    "            axes[1].plot(np.std(abnormal_features, axis=0), label='Abnormal', alpha=0.7)\n",
    "            axes[1].set_title('Feature Variance')\n",
    "            axes[1].set_xlabel('Feature Index')\n",
    "            axes[1].set_ylabel('Std Activation')\n",
    "            axes[1].legend()\n",
    "            axes[1].grid(True)\n",
    "            \n",
    "            # Feature difference\n",
    "            diff = np.mean(abnormal_features, axis=0) - np.mean(normal_features, axis=0)\n",
    "            axes[2].plot(diff, color='red', alpha=0.7)\n",
    "            axes[2].set_title('Abnormal - Normal Difference')\n",
    "            axes[2].set_xlabel('Feature Index')\n",
    "            axes[2].set_ylabel('Difference')\n",
    "            axes[2].grid(True)\n",
    "            axes[2].axhline(y=0, color='black', linestyle='--', alpha=0.5)\n",
    "            \n",
    "            plt.suptitle(f'Feature Analysis - {location} - {layer_name}', fontsize=16)\n",
    "            plt.tight_layout()\n",
    "            plt.show()\n",
    "        \n",
    "        self.clear_hooks()\n",
    "        return normal_features, abnormal_features\n",
    "    \n",
    "    def visualize_spectrograms(self, sample_indices=None, num_samples=4):\n",
    "        \"\"\"Visualize input spectrograms for different locations\"\"\"\n",
    "        if self.cached_samples is None:\n",
    "            print(\"No cached samples! Call cache_samples() first.\")\n",
    "            return\n",
    "        \n",
    "        if sample_indices is None:\n",
    "            sample_indices = list(range(min(num_samples, len(self.cached_labels))))\n",
    "        \n",
    "        fig, axes = plt.subplots(len(sample_indices), 4, figsize=(16, 4*len(sample_indices)))\n",
    "        if len(sample_indices) == 1:\n",
    "            axes = axes.reshape(1, -1)\n",
    "        \n",
    "        locations = ['AV', 'PV', 'TV', 'MV']\n",
    "        \n",
    "        for row, sample_idx in enumerate(sample_indices):\n",
    "            for col, location in enumerate(locations):\n",
    "                clips = self.cached_samples[location][sample_idx]\n",
    "                \n",
    "                if clips.size(0) > 0:\n",
    "                    # Take first clip and remove channel dimension\n",
    "                    spectrogram = clips[0, 0].cpu().numpy()\n",
    "                    \n",
    "                    im = axes[row, col].imshow(spectrogram, cmap='viridis', aspect='auto', origin='lower')\n",
    "                    axes[row, col].set_title(f'{location} - Sample {sample_idx}')\n",
    "                    axes[row, col].set_xlabel('Time')\n",
    "                    axes[row, col].set_ylabel('Mel Frequency')\n",
    "                    plt.colorbar(im, ax=axes[row, col], shrink=0.8)\n",
    "                else:\n",
    "                    axes[row, col].text(0.5, 0.5, 'No Data', ha='center', va='center', \n",
    "                                      transform=axes[row, col].transAxes)\n",
    "                    axes[row, col].set_title(f'{location} - Sample {sample_idx}')\n",
    "                \n",
    "                true_label = \"Normal\" if self.cached_labels[sample_idx] == 0 else \"Abnormal\"\n",
    "                if col == 0:  # Add label only to first column\n",
    "                    axes[row, col].set_ylabel(f'{true_label}\\nMel Frequency')\n",
    "        \n",
    "        plt.tight_layout()\n",
    "        plt.suptitle('Input Spectrograms by Location', fontsize=16, y=1.02)\n",
    "        plt.show()\n",
    "\n",
    "# Usage Examples and Quick Commands\n",
    "def quick_visualization_setup(model, device, val_loader=None, test_loader=None):\n",
    "    \"\"\"Quick setup for visualization\"\"\"\n",
    "    viz = ModelVisualizer(model, device, val_loader, test_loader)\n",
    "    viz.cache_samples(num_samples=50)\n",
    "    \n",
    "    print(\"\\n\" + \"=\"*60)\n",
    "    print(\"QUICK VISUALIZATION COMMANDS:\")\n",
    "    print(\"=\"*60)\n",
    "    print(\"# Attention weights:\")\n",
    "    print(\"viz.visualize_attention_weights([0,1,2,3,4,5])\")\n",
    "    print()\n",
    "    print(\"# CNN features for specific sample/location:\")\n",
    "    print(\"viz.visualize_cnn_features(sample_idx=0, location='AV', layer_name='cnn_conv3')\")\n",
    "    print()\n",
    "    print(\"# Compare features between classes:\")\n",
    "    print(\"normal_feat, abnormal_feat = viz.compare_features_by_class('cnn_output', 'AV')\")\n",
    "    print()\n",
    "    print(\"# View input spectrograms:\")\n",
    "    print(\"viz.visualize_spectrograms([0,1,2,3])\")\n",
    "    print()\n",
    "    print(\"# Available CNN layers: 'cnn_conv1', 'cnn_conv2', 'cnn_conv3', 'cnn_conv4', 'cnn_fc1', 'cnn_output'\")\n",
    "    print(\"=\"*60)\n",
    "    \n",
    "    return viz\n",
    "\n",
    "print(\"Model Visualization Toolkit Ready!\")\n",
    "print(\"Usage: viz = quick_visualization_setup(model, device, val_loader)\")"
   ]
  },
  {
   "cell_type": "code",
   "execution_count": null,
   "id": "26d4e2f9",
   "metadata": {},
   "outputs": [
    {
     "name": "stdout",
     "output_type": "stream",
     "text": [
      "Loading dataset...\n"
     ]
    },
    {
     "name": "stderr",
     "output_type": "stream",
     "text": [
      "Loading patient data: 100%|██████████| 942/942 [00:00<00:00, 3576.39it/s]\n"
     ]
    },
    {
     "name": "stdout",
     "output_type": "stream",
     "text": [
      "Loaded 942 patients\n",
      "Train: 565, Validation: 188, Test: 189\n",
      "Using device: cuda\n",
      "Starting training...\n",
      "\n",
      "Epoch 1/100\n",
      "--------------------------------------------------\n"
     ]
    },
    {
     "name": "stderr",
     "output_type": "stream",
     "text": [
      "Training:   6%|▌         | 1/18 [00:05<01:27,  5.14s/it]"
     ]
    },
    {
     "name": "stdout",
     "output_type": "stream",
     "text": [
      "Batch 0/18, Loss: 0.7180\n"
     ]
    },
    {
     "name": "stderr",
     "output_type": "stream",
     "text": [
      "Training:  61%|██████    | 11/18 [00:24<00:13,  1.93s/it]"
     ]
    },
    {
     "name": "stdout",
     "output_type": "stream",
     "text": [
      "Batch 10/18, Loss: 0.6982\n"
     ]
    },
    {
     "name": "stderr",
     "output_type": "stream",
     "text": [
      "Training: 100%|██████████| 18/18 [00:37<00:00,  2.09s/it]\n",
      "Evaluating: 100%|██████████| 6/6 [00:09<00:00,  1.55s/it]\n"
     ]
    },
    {
     "name": "stdout",
     "output_type": "stream",
     "text": [
      "Train Loss: 0.6967, Train Acc: 0.4566, Train AUC: 0.4768, Train F1: 0.4840\n",
      "Val Loss: 0.6932, Val Acc: 0.5160, Val AUC: 0.5390, Val F1: 0.0000\n",
      "\n",
      "Classification Report:\n",
      "              precision    recall  f1-score   support\n",
      "\n",
      "      Normal       0.52      1.00      0.68        97\n",
      "    Abnormal       0.00      0.00      0.00        91\n",
      "\n",
      "    accuracy                           0.52       188\n",
      "   macro avg       0.26      0.50      0.34       188\n",
      "weighted avg       0.27      0.52      0.35       188\n",
      "\n",
      "New best validation AUC: 0.5390\n",
      "\n",
      "Epoch 2/100\n",
      "--------------------------------------------------\n"
     ]
    },
    {
     "name": "stderr",
     "output_type": "stream",
     "text": [
      "Training:   6%|▌         | 1/18 [00:01<00:28,  1.67s/it]"
     ]
    },
    {
     "name": "stdout",
     "output_type": "stream",
     "text": [
      "Batch 0/18, Loss: 0.6936\n"
     ]
    },
    {
     "name": "stderr",
     "output_type": "stream",
     "text": [
      "Training:  61%|██████    | 11/18 [00:19<00:12,  1.80s/it]"
     ]
    },
    {
     "name": "stdout",
     "output_type": "stream",
     "text": [
      "Batch 10/18, Loss: 0.7147\n"
     ]
    },
    {
     "name": "stderr",
     "output_type": "stream",
     "text": [
      "Training: 100%|██████████| 18/18 [00:32<00:00,  1.79s/it]\n",
      "Evaluating: 100%|██████████| 6/6 [00:09<00:00,  1.55s/it]\n"
     ]
    },
    {
     "name": "stdout",
     "output_type": "stream",
     "text": [
      "Train Loss: 0.6937, Train Acc: 0.5204, Train AUC: 0.5442, Train F1: 0.2850\n",
      "Val Loss: 0.7024, Val Acc: 0.4840, Val AUC: 0.5811, Val F1: 0.6523\n",
      "\n",
      "Classification Report:\n",
      "              precision    recall  f1-score   support\n",
      "\n",
      "      Normal       0.00      0.00      0.00        97\n",
      "    Abnormal       0.48      1.00      0.65        91\n",
      "\n",
      "    accuracy                           0.48       188\n",
      "   macro avg       0.24      0.50      0.33       188\n",
      "weighted avg       0.23      0.48      0.32       188\n",
      "\n",
      "New best validation AUC: 0.5811\n",
      "\n",
      "Epoch 3/100\n",
      "--------------------------------------------------\n"
     ]
    },
    {
     "name": "stderr",
     "output_type": "stream",
     "text": [
      "Training:   6%|▌         | 1/18 [00:01<00:32,  1.89s/it]"
     ]
    },
    {
     "name": "stdout",
     "output_type": "stream",
     "text": [
      "Batch 0/18, Loss: 0.6733\n"
     ]
    },
    {
     "name": "stderr",
     "output_type": "stream",
     "text": [
      "Training:  61%|██████    | 11/18 [00:20<00:12,  1.82s/it]"
     ]
    },
    {
     "name": "stdout",
     "output_type": "stream",
     "text": [
      "Batch 10/18, Loss: 0.6825\n"
     ]
    },
    {
     "name": "stderr",
     "output_type": "stream",
     "text": [
      "Training: 100%|██████████| 18/18 [00:31<00:00,  1.77s/it]\n",
      "Evaluating: 100%|██████████| 6/6 [00:09<00:00,  1.54s/it]\n"
     ]
    },
    {
     "name": "stdout",
     "output_type": "stream",
     "text": [
      "Train Loss: 0.6929, Train Acc: 0.5221, Train AUC: 0.5413, Train F1: 0.5846\n",
      "Val Loss: 0.6917, Val Acc: 0.5160, Val AUC: 0.5502, Val F1: 0.0000\n",
      "\n",
      "Classification Report:\n",
      "              precision    recall  f1-score   support\n",
      "\n",
      "      Normal       0.52      1.00      0.68        97\n",
      "    Abnormal       0.00      0.00      0.00        91\n",
      "\n",
      "    accuracy                           0.52       188\n",
      "   macro avg       0.26      0.50      0.34       188\n",
      "weighted avg       0.27      0.52      0.35       188\n",
      "\n",
      "\n",
      "Epoch 4/100\n",
      "--------------------------------------------------\n"
     ]
    },
    {
     "name": "stderr",
     "output_type": "stream",
     "text": [
      "Training:   6%|▌         | 1/18 [00:01<00:31,  1.83s/it]"
     ]
    },
    {
     "name": "stdout",
     "output_type": "stream",
     "text": [
      "Batch 0/18, Loss: 0.6869\n"
     ]
    },
    {
     "name": "stderr",
     "output_type": "stream",
     "text": [
      "Training:  61%|██████    | 11/18 [00:19<00:12,  1.84s/it]"
     ]
    },
    {
     "name": "stdout",
     "output_type": "stream",
     "text": [
      "Batch 10/18, Loss: 0.6748\n"
     ]
    },
    {
     "name": "stderr",
     "output_type": "stream",
     "text": [
      "Training: 100%|██████████| 18/18 [00:31<00:00,  1.74s/it]\n",
      "Evaluating: 100%|██████████| 6/6 [00:09<00:00,  1.53s/it]\n"
     ]
    },
    {
     "name": "stdout",
     "output_type": "stream",
     "text": [
      "Train Loss: 0.6907, Train Acc: 0.5186, Train AUC: 0.5579, Train F1: 0.2649\n",
      "Val Loss: 0.6910, Val Acc: 0.5160, Val AUC: 0.5583, Val F1: 0.6286\n",
      "\n",
      "Classification Report:\n",
      "              precision    recall  f1-score   support\n",
      "\n",
      "      Normal       0.59      0.21      0.31        97\n",
      "    Abnormal       0.50      0.85      0.63        91\n",
      "\n",
      "    accuracy                           0.52       188\n",
      "   macro avg       0.54      0.53      0.47       188\n",
      "weighted avg       0.55      0.52      0.46       188\n",
      "\n",
      "\n",
      "Epoch 5/100\n",
      "--------------------------------------------------\n"
     ]
    },
    {
     "name": "stderr",
     "output_type": "stream",
     "text": [
      "Training:   6%|▌         | 1/18 [00:01<00:31,  1.87s/it]"
     ]
    },
    {
     "name": "stdout",
     "output_type": "stream",
     "text": [
      "Batch 0/18, Loss: 0.6846\n"
     ]
    },
    {
     "name": "stderr",
     "output_type": "stream",
     "text": [
      "Training:  61%|██████    | 11/18 [00:19<00:12,  1.82s/it]"
     ]
    },
    {
     "name": "stdout",
     "output_type": "stream",
     "text": [
      "Batch 10/18, Loss: 0.6880\n"
     ]
    },
    {
     "name": "stderr",
     "output_type": "stream",
     "text": [
      "Training: 100%|██████████| 18/18 [00:31<00:00,  1.75s/it]\n",
      "Evaluating: 100%|██████████| 6/6 [00:09<00:00,  1.52s/it]\n"
     ]
    },
    {
     "name": "stdout",
     "output_type": "stream",
     "text": [
      "Train Loss: 0.6905, Train Acc: 0.5434, Train AUC: 0.5487, Train F1: 0.6103\n",
      "Val Loss: 0.6876, Val Acc: 0.5479, Val AUC: 0.5707, Val F1: 0.3089\n",
      "\n",
      "Classification Report:\n",
      "              precision    recall  f1-score   support\n",
      "\n",
      "      Normal       0.54      0.87      0.66        97\n",
      "    Abnormal       0.59      0.21      0.31        91\n",
      "\n",
      "    accuracy                           0.55       188\n",
      "   macro avg       0.57      0.54      0.49       188\n",
      "weighted avg       0.57      0.55      0.49       188\n",
      "\n",
      "\n",
      "Epoch 6/100\n",
      "--------------------------------------------------\n"
     ]
    },
    {
     "name": "stderr",
     "output_type": "stream",
     "text": [
      "Training:   6%|▌         | 1/18 [00:01<00:33,  1.96s/it]"
     ]
    },
    {
     "name": "stdout",
     "output_type": "stream",
     "text": [
      "Batch 0/18, Loss: 0.7025\n"
     ]
    },
    {
     "name": "stderr",
     "output_type": "stream",
     "text": [
      "Training:  61%|██████    | 11/18 [00:19<00:12,  1.78s/it]"
     ]
    },
    {
     "name": "stdout",
     "output_type": "stream",
     "text": [
      "Batch 10/18, Loss: 0.6901\n"
     ]
    },
    {
     "name": "stderr",
     "output_type": "stream",
     "text": [
      "Training: 100%|██████████| 18/18 [00:32<00:00,  1.78s/it]\n",
      "Evaluating: 100%|██████████| 6/6 [00:09<00:00,  1.54s/it]\n"
     ]
    },
    {
     "name": "stdout",
     "output_type": "stream",
     "text": [
      "Train Loss: 0.6851, Train Acc: 0.5664, Train AUC: 0.5777, Train F1: 0.3702\n",
      "Val Loss: 0.6896, Val Acc: 0.5266, Val AUC: 0.5729, Val F1: 0.6337\n",
      "\n",
      "Classification Report:\n",
      "              precision    recall  f1-score   support\n",
      "\n",
      "      Normal       0.61      0.23      0.33        97\n",
      "    Abnormal       0.51      0.85      0.63        91\n",
      "\n",
      "    accuracy                           0.53       188\n",
      "   macro avg       0.56      0.54      0.48       188\n",
      "weighted avg       0.56      0.53      0.48       188\n",
      "\n",
      "\n",
      "Epoch 7/100\n",
      "--------------------------------------------------\n"
     ]
    },
    {
     "name": "stderr",
     "output_type": "stream",
     "text": [
      "Training:   6%|▌         | 1/18 [00:01<00:30,  1.81s/it]"
     ]
    },
    {
     "name": "stdout",
     "output_type": "stream",
     "text": [
      "Batch 0/18, Loss: 0.7012\n"
     ]
    },
    {
     "name": "stderr",
     "output_type": "stream",
     "text": [
      "Training:  61%|██████    | 11/18 [00:20<00:12,  1.84s/it]"
     ]
    },
    {
     "name": "stdout",
     "output_type": "stream",
     "text": [
      "Batch 10/18, Loss: 0.6523\n"
     ]
    },
    {
     "name": "stderr",
     "output_type": "stream",
     "text": [
      "Training: 100%|██████████| 18/18 [00:31<00:00,  1.78s/it]\n",
      "Evaluating: 100%|██████████| 6/6 [00:09<00:00,  1.52s/it]\n"
     ]
    },
    {
     "name": "stdout",
     "output_type": "stream",
     "text": [
      "Train Loss: 0.6826, Train Acc: 0.5416, Train AUC: 0.5727, Train F1: 0.5557\n",
      "Val Loss: 0.6839, Val Acc: 0.5904, Val AUC: 0.5773, Val F1: 0.4690\n",
      "\n",
      "Classification Report:\n",
      "              precision    recall  f1-score   support\n",
      "\n",
      "      Normal       0.57      0.79      0.67        97\n",
      "    Abnormal       0.63      0.37      0.47        91\n",
      "\n",
      "    accuracy                           0.59       188\n",
      "   macro avg       0.60      0.58      0.57       188\n",
      "weighted avg       0.60      0.59      0.57       188\n",
      "\n",
      "\n",
      "Epoch 8/100\n",
      "--------------------------------------------------\n"
     ]
    },
    {
     "name": "stderr",
     "output_type": "stream",
     "text": [
      "Training:   6%|▌         | 1/18 [00:01<00:30,  1.81s/it]"
     ]
    },
    {
     "name": "stdout",
     "output_type": "stream",
     "text": [
      "Batch 0/18, Loss: 0.6901\n"
     ]
    },
    {
     "name": "stderr",
     "output_type": "stream",
     "text": [
      "Training:  61%|██████    | 11/18 [00:19<00:12,  1.80s/it]"
     ]
    },
    {
     "name": "stdout",
     "output_type": "stream",
     "text": [
      "Batch 10/18, Loss: 0.6677\n"
     ]
    },
    {
     "name": "stderr",
     "output_type": "stream",
     "text": [
      "Training: 100%|██████████| 18/18 [00:31<00:00,  1.78s/it]\n",
      "Evaluating: 100%|██████████| 6/6 [00:09<00:00,  1.55s/it]\n"
     ]
    },
    {
     "name": "stdout",
     "output_type": "stream",
     "text": [
      "Train Loss: 0.6755, Train Acc: 0.5664, Train AUC: 0.5924, Train F1: 0.4948\n",
      "Val Loss: 0.6830, Val Acc: 0.5532, Val AUC: 0.5804, Val F1: 0.3636\n",
      "\n",
      "Classification Report:\n",
      "              precision    recall  f1-score   support\n",
      "\n",
      "      Normal       0.54      0.82      0.66        97\n",
      "    Abnormal       0.59      0.26      0.36        91\n",
      "\n",
      "    accuracy                           0.55       188\n",
      "   macro avg       0.56      0.54      0.51       188\n",
      "weighted avg       0.56      0.55      0.51       188\n",
      "\n",
      "\n",
      "Epoch 9/100\n",
      "--------------------------------------------------\n"
     ]
    },
    {
     "name": "stderr",
     "output_type": "stream",
     "text": [
      "Training:   6%|▌         | 1/18 [00:01<00:30,  1.79s/it]"
     ]
    },
    {
     "name": "stdout",
     "output_type": "stream",
     "text": [
      "Batch 0/18, Loss: 0.6327\n"
     ]
    },
    {
     "name": "stderr",
     "output_type": "stream",
     "text": [
      "Training:  61%|██████    | 11/18 [00:20<00:13,  1.86s/it]"
     ]
    },
    {
     "name": "stdout",
     "output_type": "stream",
     "text": [
      "Batch 10/18, Loss: 0.7084\n"
     ]
    },
    {
     "name": "stderr",
     "output_type": "stream",
     "text": [
      "Training: 100%|██████████| 18/18 [00:32<00:00,  1.80s/it]\n",
      "Evaluating: 100%|██████████| 6/6 [00:09<00:00,  1.54s/it]\n"
     ]
    },
    {
     "name": "stdout",
     "output_type": "stream",
     "text": [
      "Train Loss: 0.6741, Train Acc: 0.5487, Train AUC: 0.6016, Train F1: 0.4609\n",
      "Val Loss: 0.6821, Val Acc: 0.5372, Val AUC: 0.5894, Val F1: 0.5672\n",
      "\n",
      "Classification Report:\n",
      "              precision    recall  f1-score   support\n",
      "\n",
      "      Normal       0.56      0.45      0.50        97\n",
      "    Abnormal       0.52      0.63      0.57        91\n",
      "\n",
      "    accuracy                           0.54       188\n",
      "   macro avg       0.54      0.54      0.54       188\n",
      "weighted avg       0.54      0.54      0.53       188\n",
      "\n",
      "New best validation AUC: 0.5894\n",
      "\n",
      "Epoch 10/100\n",
      "--------------------------------------------------\n"
     ]
    },
    {
     "name": "stderr",
     "output_type": "stream",
     "text": [
      "Training:   6%|▌         | 1/18 [00:01<00:31,  1.83s/it]"
     ]
    },
    {
     "name": "stdout",
     "output_type": "stream",
     "text": [
      "Batch 0/18, Loss: 0.6578\n"
     ]
    },
    {
     "name": "stderr",
     "output_type": "stream",
     "text": [
      "Training:  61%|██████    | 11/18 [00:19<00:12,  1.77s/it]"
     ]
    },
    {
     "name": "stdout",
     "output_type": "stream",
     "text": [
      "Batch 10/18, Loss: 0.6793\n"
     ]
    },
    {
     "name": "stderr",
     "output_type": "stream",
     "text": [
      "Training: 100%|██████████| 18/18 [00:31<00:00,  1.77s/it]\n",
      "Evaluating: 100%|██████████| 6/6 [00:09<00:00,  1.50s/it]\n"
     ]
    },
    {
     "name": "stdout",
     "output_type": "stream",
     "text": [
      "Train Loss: 0.6740, Train Acc: 0.5327, Train AUC: 0.5832, Train F1: 0.5235\n",
      "Val Loss: 0.6828, Val Acc: 0.5426, Val AUC: 0.5908, Val F1: 0.6261\n",
      "\n",
      "Classification Report:\n",
      "              precision    recall  f1-score   support\n",
      "\n",
      "      Normal       0.61      0.31      0.41        97\n",
      "    Abnormal       0.52      0.79      0.63        91\n",
      "\n",
      "    accuracy                           0.54       188\n",
      "   macro avg       0.57      0.55      0.52       188\n",
      "weighted avg       0.57      0.54      0.52       188\n",
      "\n",
      "New best validation AUC: 0.5908\n",
      "\n",
      "Epoch 11/100\n",
      "--------------------------------------------------\n"
     ]
    },
    {
     "name": "stderr",
     "output_type": "stream",
     "text": [
      "Training:   6%|▌         | 1/18 [00:01<00:29,  1.76s/it]"
     ]
    },
    {
     "name": "stdout",
     "output_type": "stream",
     "text": [
      "Batch 0/18, Loss: 0.6614\n"
     ]
    },
    {
     "name": "stderr",
     "output_type": "stream",
     "text": [
      "Training:  61%|██████    | 11/18 [00:19<00:12,  1.73s/it]"
     ]
    },
    {
     "name": "stdout",
     "output_type": "stream",
     "text": [
      "Batch 10/18, Loss: 0.7005\n"
     ]
    },
    {
     "name": "stderr",
     "output_type": "stream",
     "text": [
      "Training: 100%|██████████| 18/18 [00:33<00:00,  1.84s/it]\n",
      "Evaluating: 100%|██████████| 6/6 [00:11<00:00,  1.87s/it]\n"
     ]
    },
    {
     "name": "stdout",
     "output_type": "stream",
     "text": [
      "Train Loss: 0.6738, Train Acc: 0.5735, Train AUC: 0.6017, Train F1: 0.5461\n",
      "Val Loss: 0.6804, Val Acc: 0.5585, Val AUC: 0.5863, Val F1: 0.3566\n",
      "\n",
      "Classification Report:\n",
      "              precision    recall  f1-score   support\n",
      "\n",
      "      Normal       0.55      0.85      0.66        97\n",
      "    Abnormal       0.61      0.25      0.36        91\n",
      "\n",
      "    accuracy                           0.56       188\n",
      "   macro avg       0.58      0.55      0.51       188\n",
      "weighted avg       0.58      0.56      0.52       188\n",
      "\n",
      "\n",
      "Epoch 12/100\n",
      "--------------------------------------------------\n"
     ]
    },
    {
     "name": "stderr",
     "output_type": "stream",
     "text": [
      "Training:   6%|▌         | 1/18 [00:02<00:40,  2.37s/it]"
     ]
    },
    {
     "name": "stdout",
     "output_type": "stream",
     "text": [
      "Batch 0/18, Loss: 0.6721\n"
     ]
    },
    {
     "name": "stderr",
     "output_type": "stream",
     "text": [
      "Training:  61%|██████    | 11/18 [00:23<00:15,  2.19s/it]"
     ]
    },
    {
     "name": "stdout",
     "output_type": "stream",
     "text": [
      "Batch 10/18, Loss: 0.6707\n"
     ]
    },
    {
     "name": "stderr",
     "output_type": "stream",
     "text": [
      "Training: 100%|██████████| 18/18 [00:38<00:00,  2.14s/it]\n",
      "Evaluating: 100%|██████████| 6/6 [00:11<00:00,  1.90s/it]\n"
     ]
    },
    {
     "name": "stdout",
     "output_type": "stream",
     "text": [
      "Train Loss: 0.6687, Train Acc: 0.5770, Train AUC: 0.6168, Train F1: 0.5516\n",
      "Val Loss: 0.6908, Val Acc: 0.5319, Val AUC: 0.5974, Val F1: 0.6452\n",
      "\n",
      "Classification Report:\n",
      "              precision    recall  f1-score   support\n",
      "\n",
      "      Normal       0.65      0.21      0.31        97\n",
      "    Abnormal       0.51      0.88      0.65        91\n",
      "\n",
      "    accuracy                           0.53       188\n",
      "   macro avg       0.58      0.54      0.48       188\n",
      "weighted avg       0.58      0.53      0.47       188\n",
      "\n",
      "New best validation AUC: 0.5974\n",
      "\n",
      "Epoch 13/100\n",
      "--------------------------------------------------\n"
     ]
    },
    {
     "name": "stderr",
     "output_type": "stream",
     "text": [
      "Training:   6%|▌         | 1/18 [00:02<00:34,  2.06s/it]"
     ]
    },
    {
     "name": "stdout",
     "output_type": "stream",
     "text": [
      "Batch 0/18, Loss: 0.6417\n"
     ]
    },
    {
     "name": "stderr",
     "output_type": "stream",
     "text": [
      "Training:  61%|██████    | 11/18 [00:23<00:15,  2.18s/it]"
     ]
    },
    {
     "name": "stdout",
     "output_type": "stream",
     "text": [
      "Batch 10/18, Loss: 0.6673\n"
     ]
    },
    {
     "name": "stderr",
     "output_type": "stream",
     "text": [
      "Training: 100%|██████████| 18/18 [00:38<00:00,  2.14s/it]\n",
      "Evaluating: 100%|██████████| 6/6 [00:11<00:00,  1.89s/it]\n"
     ]
    },
    {
     "name": "stdout",
     "output_type": "stream",
     "text": [
      "Train Loss: 0.6707, Train Acc: 0.5646, Train AUC: 0.5995, Train F1: 0.5872\n",
      "Val Loss: 0.6782, Val Acc: 0.5319, Val AUC: 0.5934, Val F1: 0.5464\n",
      "\n",
      "Classification Report:\n",
      "              precision    recall  f1-score   support\n",
      "\n",
      "      Normal       0.55      0.48      0.52        97\n",
      "    Abnormal       0.51      0.58      0.55        91\n",
      "\n",
      "    accuracy                           0.53       188\n",
      "   macro avg       0.53      0.53      0.53       188\n",
      "weighted avg       0.53      0.53      0.53       188\n",
      "\n",
      "\n",
      "Epoch 14/100\n",
      "--------------------------------------------------\n"
     ]
    },
    {
     "name": "stderr",
     "output_type": "stream",
     "text": [
      "Training:   6%|▌         | 1/18 [00:02<00:37,  2.21s/it]"
     ]
    },
    {
     "name": "stdout",
     "output_type": "stream",
     "text": [
      "Batch 0/18, Loss: 0.6340\n"
     ]
    },
    {
     "name": "stderr",
     "output_type": "stream",
     "text": [
      "Training:  61%|██████    | 11/18 [00:21<00:13,  1.92s/it]"
     ]
    },
    {
     "name": "stdout",
     "output_type": "stream",
     "text": [
      "Batch 10/18, Loss: 0.6851\n"
     ]
    },
    {
     "name": "stderr",
     "output_type": "stream",
     "text": [
      "Training: 100%|██████████| 18/18 [00:34<00:00,  1.89s/it]\n",
      "Evaluating: 100%|██████████| 6/6 [00:09<00:00,  1.58s/it]\n"
     ]
    },
    {
     "name": "stdout",
     "output_type": "stream",
     "text": [
      "Train Loss: 0.6652, Train Acc: 0.5770, Train AUC: 0.6125, Train F1: 0.5647\n",
      "Val Loss: 0.6784, Val Acc: 0.5479, Val AUC: 0.5812, Val F1: 0.3511\n",
      "\n",
      "Classification Report:\n",
      "              precision    recall  f1-score   support\n",
      "\n",
      "      Normal       0.54      0.82      0.65        97\n",
      "    Abnormal       0.57      0.25      0.35        91\n",
      "\n",
      "    accuracy                           0.55       188\n",
      "   macro avg       0.56      0.54      0.50       188\n",
      "weighted avg       0.56      0.55      0.51       188\n",
      "\n",
      "\n",
      "Epoch 15/100\n",
      "--------------------------------------------------\n"
     ]
    },
    {
     "name": "stderr",
     "output_type": "stream",
     "text": [
      "Training:   6%|▌         | 1/18 [00:01<00:30,  1.79s/it]"
     ]
    },
    {
     "name": "stdout",
     "output_type": "stream",
     "text": [
      "Batch 0/18, Loss: 0.6941\n"
     ]
    },
    {
     "name": "stderr",
     "output_type": "stream",
     "text": [
      "Training:  61%|██████    | 11/18 [00:19<00:12,  1.75s/it]"
     ]
    },
    {
     "name": "stdout",
     "output_type": "stream",
     "text": [
      "Batch 10/18, Loss: 0.6479\n"
     ]
    },
    {
     "name": "stderr",
     "output_type": "stream",
     "text": [
      "Training: 100%|██████████| 18/18 [00:32<00:00,  1.79s/it]\n",
      "Evaluating: 100%|██████████| 6/6 [00:09<00:00,  1.57s/it]\n"
     ]
    },
    {
     "name": "stdout",
     "output_type": "stream",
     "text": [
      "Train Loss: 0.6675, Train Acc: 0.5664, Train AUC: 0.6147, Train F1: 0.4864\n",
      "Val Loss: 0.6875, Val Acc: 0.5160, Val AUC: 0.6065, Val F1: 0.6540\n",
      "\n",
      "Classification Report:\n",
      "              precision    recall  f1-score   support\n",
      "\n",
      "      Normal       0.69      0.11      0.19        97\n",
      "    Abnormal       0.50      0.95      0.65        91\n",
      "\n",
      "    accuracy                           0.52       188\n",
      "   macro avg       0.59      0.53      0.42       188\n",
      "weighted avg       0.60      0.52      0.42       188\n",
      "\n",
      "New best validation AUC: 0.6065\n",
      "\n",
      "Epoch 16/100\n",
      "--------------------------------------------------\n"
     ]
    },
    {
     "name": "stderr",
     "output_type": "stream",
     "text": [
      "Training:   6%|▌         | 1/18 [00:01<00:33,  1.99s/it]"
     ]
    },
    {
     "name": "stdout",
     "output_type": "stream",
     "text": [
      "Batch 0/18, Loss: 0.6839\n"
     ]
    },
    {
     "name": "stderr",
     "output_type": "stream",
     "text": [
      "Training:  61%|██████    | 11/18 [00:19<00:12,  1.77s/it]"
     ]
    },
    {
     "name": "stdout",
     "output_type": "stream",
     "text": [
      "Batch 10/18, Loss: 0.6414\n"
     ]
    },
    {
     "name": "stderr",
     "output_type": "stream",
     "text": [
      "Training: 100%|██████████| 18/18 [00:32<00:00,  1.79s/it]\n",
      "Evaluating: 100%|██████████| 6/6 [00:09<00:00,  1.56s/it]\n"
     ]
    },
    {
     "name": "stdout",
     "output_type": "stream",
     "text": [
      "Train Loss: 0.6703, Train Acc: 0.5186, Train AUC: 0.5809, Train F1: 0.5916\n",
      "Val Loss: 0.6773, Val Acc: 0.5319, Val AUC: 0.5838, Val F1: 0.6071\n",
      "\n",
      "Classification Report:\n",
      "              precision    recall  f1-score   support\n",
      "\n",
      "      Normal       0.58      0.33      0.42        97\n",
      "    Abnormal       0.51      0.75      0.61        91\n",
      "\n",
      "    accuracy                           0.53       188\n",
      "   macro avg       0.55      0.54      0.51       188\n",
      "weighted avg       0.55      0.53      0.51       188\n",
      "\n",
      "\n",
      "Epoch 17/100\n",
      "--------------------------------------------------\n"
     ]
    },
    {
     "name": "stderr",
     "output_type": "stream",
     "text": [
      "Training:   6%|▌         | 1/18 [00:01<00:28,  1.67s/it]"
     ]
    },
    {
     "name": "stdout",
     "output_type": "stream",
     "text": [
      "Batch 0/18, Loss: 0.6947\n"
     ]
    },
    {
     "name": "stderr",
     "output_type": "stream",
     "text": [
      "Training:  61%|██████    | 11/18 [00:20<00:13,  1.87s/it]"
     ]
    },
    {
     "name": "stdout",
     "output_type": "stream",
     "text": [
      "Batch 10/18, Loss: 0.7568\n"
     ]
    },
    {
     "name": "stderr",
     "output_type": "stream",
     "text": [
      "Training: 100%|██████████| 18/18 [00:32<00:00,  1.78s/it]\n",
      "Evaluating: 100%|██████████| 6/6 [00:09<00:00,  1.53s/it]\n"
     ]
    },
    {
     "name": "stdout",
     "output_type": "stream",
     "text": [
      "Train Loss: 0.6653, Train Acc: 0.5717, Train AUC: 0.6176, Train F1: 0.5568\n",
      "Val Loss: 0.6749, Val Acc: 0.5372, Val AUC: 0.5822, Val F1: 0.5492\n",
      "\n",
      "Classification Report:\n",
      "              precision    recall  f1-score   support\n",
      "\n",
      "      Normal       0.56      0.49      0.52        97\n",
      "    Abnormal       0.52      0.58      0.55        91\n",
      "\n",
      "    accuracy                           0.54       188\n",
      "   macro avg       0.54      0.54      0.54       188\n",
      "weighted avg       0.54      0.54      0.54       188\n",
      "\n",
      "\n",
      "Epoch 18/100\n",
      "--------------------------------------------------\n"
     ]
    },
    {
     "name": "stderr",
     "output_type": "stream",
     "text": [
      "Training:   6%|▌         | 1/18 [00:01<00:31,  1.84s/it]"
     ]
    },
    {
     "name": "stdout",
     "output_type": "stream",
     "text": [
      "Batch 0/18, Loss: 0.5815\n"
     ]
    },
    {
     "name": "stderr",
     "output_type": "stream",
     "text": [
      "Training:  61%|██████    | 11/18 [00:18<00:11,  1.69s/it]"
     ]
    },
    {
     "name": "stdout",
     "output_type": "stream",
     "text": [
      "Batch 10/18, Loss: 0.7027\n"
     ]
    },
    {
     "name": "stderr",
     "output_type": "stream",
     "text": [
      "Training: 100%|██████████| 18/18 [00:32<00:00,  1.78s/it]\n",
      "Evaluating: 100%|██████████| 6/6 [00:09<00:00,  1.54s/it]\n"
     ]
    },
    {
     "name": "stdout",
     "output_type": "stream",
     "text": [
      "Train Loss: 0.6650, Train Acc: 0.5735, Train AUC: 0.6041, Train F1: 0.5374\n",
      "Val Loss: 0.6772, Val Acc: 0.5479, Val AUC: 0.5823, Val F1: 0.6473\n",
      "\n",
      "Classification Report:\n",
      "              precision    recall  f1-score   support\n",
      "\n",
      "      Normal       0.66      0.26      0.37        97\n",
      "    Abnormal       0.52      0.86      0.65        91\n",
      "\n",
      "    accuracy                           0.55       188\n",
      "   macro avg       0.59      0.56      0.51       188\n",
      "weighted avg       0.59      0.55      0.50       188\n",
      "\n",
      "\n",
      "Epoch 19/100\n",
      "--------------------------------------------------\n"
     ]
    },
    {
     "name": "stderr",
     "output_type": "stream",
     "text": [
      "Training:   6%|▌         | 1/18 [00:01<00:28,  1.67s/it]"
     ]
    },
    {
     "name": "stdout",
     "output_type": "stream",
     "text": [
      "Batch 0/18, Loss: 0.6256\n"
     ]
    },
    {
     "name": "stderr",
     "output_type": "stream",
     "text": [
      "Training:  61%|██████    | 11/18 [00:20<00:13,  1.90s/it]"
     ]
    },
    {
     "name": "stdout",
     "output_type": "stream",
     "text": [
      "Batch 10/18, Loss: 0.6448\n"
     ]
    },
    {
     "name": "stderr",
     "output_type": "stream",
     "text": [
      "Training: 100%|██████████| 18/18 [00:32<00:00,  1.78s/it]\n",
      "Evaluating: 100%|██████████| 6/6 [00:09<00:00,  1.52s/it]\n"
     ]
    },
    {
     "name": "stdout",
     "output_type": "stream",
     "text": [
      "Train Loss: 0.6602, Train Acc: 0.5770, Train AUC: 0.6267, Train F1: 0.6459\n",
      "Val Loss: 0.6749, Val Acc: 0.5426, Val AUC: 0.5862, Val F1: 0.5114\n",
      "\n",
      "Classification Report:\n",
      "              precision    recall  f1-score   support\n",
      "\n",
      "      Normal       0.55      0.59      0.57        97\n",
      "    Abnormal       0.53      0.49      0.51        91\n",
      "\n",
      "    accuracy                           0.54       188\n",
      "   macro avg       0.54      0.54      0.54       188\n",
      "weighted avg       0.54      0.54      0.54       188\n",
      "\n",
      "\n",
      "Epoch 20/100\n",
      "--------------------------------------------------\n"
     ]
    },
    {
     "name": "stderr",
     "output_type": "stream",
     "text": [
      "Training:   6%|▌         | 1/18 [00:01<00:27,  1.64s/it]"
     ]
    },
    {
     "name": "stdout",
     "output_type": "stream",
     "text": [
      "Batch 0/18, Loss: 0.6093\n"
     ]
    },
    {
     "name": "stderr",
     "output_type": "stream",
     "text": [
      "Training:  61%|██████    | 11/18 [00:19<00:12,  1.80s/it]"
     ]
    },
    {
     "name": "stdout",
     "output_type": "stream",
     "text": [
      "Batch 10/18, Loss: 0.7086\n"
     ]
    },
    {
     "name": "stderr",
     "output_type": "stream",
     "text": [
      "Training: 100%|██████████| 18/18 [00:31<00:00,  1.76s/it]\n",
      "Evaluating: 100%|██████████| 6/6 [00:09<00:00,  1.53s/it]\n"
     ]
    },
    {
     "name": "stdout",
     "output_type": "stream",
     "text": [
      "Train Loss: 0.6615, Train Acc: 0.5876, Train AUC: 0.6129, Train F1: 0.5196\n",
      "Val Loss: 0.6753, Val Acc: 0.5691, Val AUC: 0.5873, Val F1: 0.4706\n",
      "\n",
      "Classification Report:\n",
      "              precision    recall  f1-score   support\n",
      "\n",
      "      Normal       0.56      0.73      0.64        97\n",
      "    Abnormal       0.58      0.40      0.47        91\n",
      "\n",
      "    accuracy                           0.57       188\n",
      "   macro avg       0.57      0.56      0.55       188\n",
      "weighted avg       0.57      0.57      0.56       188\n",
      "\n",
      "\n",
      "Epoch 21/100\n",
      "--------------------------------------------------\n"
     ]
    },
    {
     "name": "stderr",
     "output_type": "stream",
     "text": [
      "Training:   6%|▌         | 1/18 [00:01<00:31,  1.86s/it]"
     ]
    },
    {
     "name": "stdout",
     "output_type": "stream",
     "text": [
      "Batch 0/18, Loss: 0.6051\n"
     ]
    },
    {
     "name": "stderr",
     "output_type": "stream",
     "text": [
      "Training:  61%|██████    | 11/18 [00:20<00:12,  1.81s/it]"
     ]
    },
    {
     "name": "stdout",
     "output_type": "stream",
     "text": [
      "Batch 10/18, Loss: 0.6521\n"
     ]
    },
    {
     "name": "stderr",
     "output_type": "stream",
     "text": [
      "Training: 100%|██████████| 18/18 [00:32<00:00,  1.82s/it]\n",
      "Evaluating: 100%|██████████| 6/6 [00:09<00:00,  1.57s/it]\n"
     ]
    },
    {
     "name": "stdout",
     "output_type": "stream",
     "text": [
      "Train Loss: 0.6585, Train Acc: 0.5717, Train AUC: 0.6214, Train F1: 0.6171\n",
      "Val Loss: 0.6746, Val Acc: 0.5745, Val AUC: 0.5969, Val F1: 0.5000\n",
      "\n",
      "Classification Report:\n",
      "              precision    recall  f1-score   support\n",
      "\n",
      "      Normal       0.57      0.70      0.63        97\n",
      "    Abnormal       0.58      0.44      0.50        91\n",
      "\n",
      "    accuracy                           0.57       188\n",
      "   macro avg       0.58      0.57      0.56       188\n",
      "weighted avg       0.58      0.57      0.57       188\n",
      "\n",
      "\n",
      "Epoch 22/100\n",
      "--------------------------------------------------\n"
     ]
    },
    {
     "name": "stderr",
     "output_type": "stream",
     "text": [
      "Training:   6%|▌         | 1/18 [00:01<00:28,  1.66s/it]"
     ]
    },
    {
     "name": "stdout",
     "output_type": "stream",
     "text": [
      "Batch 0/18, Loss: 0.6424\n"
     ]
    },
    {
     "name": "stderr",
     "output_type": "stream",
     "text": [
      "Training:  61%|██████    | 11/18 [00:19<00:12,  1.76s/it]"
     ]
    },
    {
     "name": "stdout",
     "output_type": "stream",
     "text": [
      "Batch 10/18, Loss: 0.6614\n"
     ]
    },
    {
     "name": "stderr",
     "output_type": "stream",
     "text": [
      "Training: 100%|██████████| 18/18 [00:32<00:00,  1.80s/it]\n",
      "Evaluating: 100%|██████████| 6/6 [00:09<00:00,  1.55s/it]\n"
     ]
    },
    {
     "name": "stdout",
     "output_type": "stream",
     "text": [
      "Train Loss: 0.6574, Train Acc: 0.5558, Train AUC: 0.6283, Train F1: 0.4648\n",
      "Val Loss: 0.6724, Val Acc: 0.5798, Val AUC: 0.5971, Val F1: 0.5486\n",
      "\n",
      "Classification Report:\n",
      "              precision    recall  f1-score   support\n",
      "\n",
      "      Normal       0.59      0.63      0.61        97\n",
      "    Abnormal       0.57      0.53      0.55        91\n",
      "\n",
      "    accuracy                           0.58       188\n",
      "   macro avg       0.58      0.58      0.58       188\n",
      "weighted avg       0.58      0.58      0.58       188\n",
      "\n",
      "\n",
      "Epoch 23/100\n",
      "--------------------------------------------------\n"
     ]
    },
    {
     "name": "stderr",
     "output_type": "stream",
     "text": [
      "Training:   6%|▌         | 1/18 [00:01<00:33,  1.97s/it]"
     ]
    },
    {
     "name": "stdout",
     "output_type": "stream",
     "text": [
      "Batch 0/18, Loss: 0.6544\n"
     ]
    },
    {
     "name": "stderr",
     "output_type": "stream",
     "text": [
      "Training:  61%|██████    | 11/18 [00:19<00:12,  1.76s/it]"
     ]
    },
    {
     "name": "stdout",
     "output_type": "stream",
     "text": [
      "Batch 10/18, Loss: 0.6827\n"
     ]
    },
    {
     "name": "stderr",
     "output_type": "stream",
     "text": [
      "Training: 100%|██████████| 18/18 [00:32<00:00,  1.80s/it]\n",
      "Evaluating: 100%|██████████| 6/6 [00:09<00:00,  1.55s/it]\n"
     ]
    },
    {
     "name": "stdout",
     "output_type": "stream",
     "text": [
      "Train Loss: 0.6565, Train Acc: 0.6035, Train AUC: 0.6305, Train F1: 0.6304\n",
      "Val Loss: 0.6720, Val Acc: 0.5745, Val AUC: 0.6068, Val F1: 0.5122\n",
      "\n",
      "Classification Report:\n",
      "              precision    recall  f1-score   support\n",
      "\n",
      "      Normal       0.57      0.68      0.62        97\n",
      "    Abnormal       0.58      0.46      0.51        91\n",
      "\n",
      "    accuracy                           0.57       188\n",
      "   macro avg       0.57      0.57      0.57       188\n",
      "weighted avg       0.57      0.57      0.57       188\n",
      "\n",
      "New best validation AUC: 0.6068\n",
      "\n",
      "Epoch 24/100\n",
      "--------------------------------------------------\n"
     ]
    },
    {
     "name": "stderr",
     "output_type": "stream",
     "text": [
      "Training:   6%|▌         | 1/18 [00:02<00:34,  2.02s/it]"
     ]
    },
    {
     "name": "stdout",
     "output_type": "stream",
     "text": [
      "Batch 0/18, Loss: 0.6658\n"
     ]
    },
    {
     "name": "stderr",
     "output_type": "stream",
     "text": [
      "Training:  61%|██████    | 11/18 [00:20<00:12,  1.78s/it]"
     ]
    },
    {
     "name": "stdout",
     "output_type": "stream",
     "text": [
      "Batch 10/18, Loss: 0.6352\n"
     ]
    },
    {
     "name": "stderr",
     "output_type": "stream",
     "text": [
      "Training: 100%|██████████| 18/18 [00:32<00:00,  1.81s/it]\n",
      "Evaluating: 100%|██████████| 6/6 [00:09<00:00,  1.55s/it]\n"
     ]
    },
    {
     "name": "stdout",
     "output_type": "stream",
     "text": [
      "Train Loss: 0.6515, Train Acc: 0.5752, Train AUC: 0.6375, Train F1: 0.4783\n",
      "Val Loss: 0.6760, Val Acc: 0.5372, Val AUC: 0.6036, Val F1: 0.5348\n",
      "\n",
      "Classification Report:\n",
      "              precision    recall  f1-score   support\n",
      "\n",
      "      Normal       0.55      0.53      0.54        97\n",
      "    Abnormal       0.52      0.55      0.53        91\n",
      "\n",
      "    accuracy                           0.54       188\n",
      "   macro avg       0.54      0.54      0.54       188\n",
      "weighted avg       0.54      0.54      0.54       188\n",
      "\n",
      "\n",
      "Epoch 25/100\n",
      "--------------------------------------------------\n"
     ]
    },
    {
     "name": "stderr",
     "output_type": "stream",
     "text": [
      "Training:   6%|▌         | 1/18 [00:01<00:31,  1.84s/it]"
     ]
    },
    {
     "name": "stdout",
     "output_type": "stream",
     "text": [
      "Batch 0/18, Loss: 0.6175\n"
     ]
    },
    {
     "name": "stderr",
     "output_type": "stream",
     "text": [
      "Training:  61%|██████    | 11/18 [00:20<00:12,  1.78s/it]"
     ]
    },
    {
     "name": "stdout",
     "output_type": "stream",
     "text": [
      "Batch 10/18, Loss: 0.7635\n"
     ]
    },
    {
     "name": "stderr",
     "output_type": "stream",
     "text": [
      "Training: 100%|██████████| 18/18 [00:31<00:00,  1.76s/it]\n",
      "Evaluating: 100%|██████████| 6/6 [00:09<00:00,  1.53s/it]\n"
     ]
    },
    {
     "name": "stdout",
     "output_type": "stream",
     "text": [
      "Train Loss: 0.6495, Train Acc: 0.5947, Train AUC: 0.6398, Train F1: 0.5355\n",
      "Val Loss: 0.6728, Val Acc: 0.5745, Val AUC: 0.6086, Val F1: 0.6330\n",
      "\n",
      "Classification Report:\n",
      "              precision    recall  f1-score   support\n",
      "\n",
      "      Normal       0.64      0.40      0.49        97\n",
      "    Abnormal       0.54      0.76      0.63        91\n",
      "\n",
      "    accuracy                           0.57       188\n",
      "   macro avg       0.59      0.58      0.56       188\n",
      "weighted avg       0.59      0.57      0.56       188\n",
      "\n",
      "New best validation AUC: 0.6086\n",
      "\n",
      "Epoch 26/100\n",
      "--------------------------------------------------\n"
     ]
    },
    {
     "name": "stderr",
     "output_type": "stream",
     "text": [
      "Training:   6%|▌         | 1/18 [00:01<00:30,  1.78s/it]"
     ]
    },
    {
     "name": "stdout",
     "output_type": "stream",
     "text": [
      "Batch 0/18, Loss: 0.6239\n"
     ]
    },
    {
     "name": "stderr",
     "output_type": "stream",
     "text": [
      "Training:  61%|██████    | 11/18 [00:19<00:12,  1.76s/it]"
     ]
    },
    {
     "name": "stdout",
     "output_type": "stream",
     "text": [
      "Batch 10/18, Loss: 0.6924\n"
     ]
    },
    {
     "name": "stderr",
     "output_type": "stream",
     "text": [
      "Training: 100%|██████████| 18/18 [00:31<00:00,  1.76s/it]\n",
      "Evaluating: 100%|██████████| 6/6 [00:09<00:00,  1.54s/it]\n"
     ]
    },
    {
     "name": "stdout",
     "output_type": "stream",
     "text": [
      "Train Loss: 0.6507, Train Acc: 0.6035, Train AUC: 0.6400, Train F1: 0.6522\n",
      "Val Loss: 0.6728, Val Acc: 0.5426, Val AUC: 0.6155, Val F1: 0.6091\n",
      "\n",
      "Classification Report:\n",
      "              precision    recall  f1-score   support\n",
      "\n",
      "      Normal       0.59      0.36      0.45        97\n",
      "    Abnormal       0.52      0.74      0.61        91\n",
      "\n",
      "    accuracy                           0.54       188\n",
      "   macro avg       0.56      0.55      0.53       188\n",
      "weighted avg       0.56      0.54      0.53       188\n",
      "\n",
      "New best validation AUC: 0.6155\n",
      "\n",
      "Epoch 27/100\n",
      "--------------------------------------------------\n"
     ]
    },
    {
     "name": "stderr",
     "output_type": "stream",
     "text": [
      "Training:   6%|▌         | 1/18 [00:01<00:30,  1.80s/it]"
     ]
    },
    {
     "name": "stdout",
     "output_type": "stream",
     "text": [
      "Batch 0/18, Loss: 0.5782\n"
     ]
    },
    {
     "name": "stderr",
     "output_type": "stream",
     "text": [
      "Training:  61%|██████    | 11/18 [00:19<00:12,  1.78s/it]"
     ]
    },
    {
     "name": "stdout",
     "output_type": "stream",
     "text": [
      "Batch 10/18, Loss: 0.7090\n"
     ]
    },
    {
     "name": "stderr",
     "output_type": "stream",
     "text": [
      "Training: 100%|██████████| 18/18 [00:32<00:00,  1.82s/it]\n",
      "Evaluating: 100%|██████████| 6/6 [00:10<00:00,  1.74s/it]\n"
     ]
    },
    {
     "name": "stdout",
     "output_type": "stream",
     "text": [
      "Train Loss: 0.6448, Train Acc: 0.6106, Train AUC: 0.6556, Train F1: 0.6220\n",
      "Val Loss: 0.6767, Val Acc: 0.5319, Val AUC: 0.5939, Val F1: 0.5165\n",
      "\n",
      "Classification Report:\n",
      "              precision    recall  f1-score   support\n",
      "\n",
      "      Normal       0.55      0.55      0.55        97\n",
      "    Abnormal       0.52      0.52      0.52        91\n",
      "\n",
      "    accuracy                           0.53       188\n",
      "   macro avg       0.53      0.53      0.53       188\n",
      "weighted avg       0.53      0.53      0.53       188\n",
      "\n",
      "\n",
      "Epoch 28/100\n",
      "--------------------------------------------------\n"
     ]
    },
    {
     "name": "stderr",
     "output_type": "stream",
     "text": [
      "Training:   6%|▌         | 1/18 [00:02<00:38,  2.26s/it]"
     ]
    },
    {
     "name": "stdout",
     "output_type": "stream",
     "text": [
      "Batch 0/18, Loss: 0.6497\n"
     ]
    },
    {
     "name": "stderr",
     "output_type": "stream",
     "text": [
      "Training:  61%|██████    | 11/18 [00:22<00:13,  1.95s/it]"
     ]
    },
    {
     "name": "stdout",
     "output_type": "stream",
     "text": [
      "Batch 10/18, Loss: 0.5360\n"
     ]
    },
    {
     "name": "stderr",
     "output_type": "stream",
     "text": [
      "Training: 100%|██████████| 18/18 [00:36<00:00,  2.02s/it]\n",
      "Evaluating: 100%|██████████| 6/6 [00:10<00:00,  1.80s/it]\n"
     ]
    },
    {
     "name": "stdout",
     "output_type": "stream",
     "text": [
      "Train Loss: 0.6423, Train Acc: 0.5947, Train AUC: 0.6458, Train F1: 0.5814\n",
      "Val Loss: 0.6787, Val Acc: 0.5479, Val AUC: 0.5933, Val F1: 0.5355\n",
      "\n",
      "Classification Report:\n",
      "              precision    recall  f1-score   support\n",
      "\n",
      "      Normal       0.56      0.56      0.56        97\n",
      "    Abnormal       0.53      0.54      0.54        91\n",
      "\n",
      "    accuracy                           0.55       188\n",
      "   macro avg       0.55      0.55      0.55       188\n",
      "weighted avg       0.55      0.55      0.55       188\n",
      "\n",
      "\n",
      "Epoch 29/100\n",
      "--------------------------------------------------\n"
     ]
    },
    {
     "name": "stderr",
     "output_type": "stream",
     "text": [
      "Training:   6%|▌         | 1/18 [00:02<00:35,  2.09s/it]"
     ]
    },
    {
     "name": "stdout",
     "output_type": "stream",
     "text": [
      "Batch 0/18, Loss: 0.6862\n"
     ]
    },
    {
     "name": "stderr",
     "output_type": "stream",
     "text": [
      "Training:  61%|██████    | 11/18 [00:27<00:19,  2.73s/it]"
     ]
    },
    {
     "name": "stdout",
     "output_type": "stream",
     "text": [
      "Batch 10/18, Loss: 0.6263\n"
     ]
    },
    {
     "name": "stderr",
     "output_type": "stream",
     "text": [
      "Training: 100%|██████████| 18/18 [00:45<00:00,  2.51s/it]\n",
      "Evaluating: 100%|██████████| 6/6 [00:11<00:00,  1.92s/it]\n"
     ]
    },
    {
     "name": "stdout",
     "output_type": "stream",
     "text": [
      "Train Loss: 0.6367, Train Acc: 0.5965, Train AUC: 0.6620, Train F1: 0.6069\n",
      "Val Loss: 0.6743, Val Acc: 0.5745, Val AUC: 0.5992, Val F1: 0.5506\n",
      "\n",
      "Classification Report:\n",
      "              precision    recall  f1-score   support\n",
      "\n",
      "      Normal       0.58      0.61      0.60        97\n",
      "    Abnormal       0.56      0.54      0.55        91\n",
      "\n",
      "    accuracy                           0.57       188\n",
      "   macro avg       0.57      0.57      0.57       188\n",
      "weighted avg       0.57      0.57      0.57       188\n",
      "\n",
      "\n",
      "Epoch 30/100\n",
      "--------------------------------------------------\n"
     ]
    },
    {
     "name": "stderr",
     "output_type": "stream",
     "text": [
      "Training:   6%|▌         | 1/18 [00:01<00:32,  1.90s/it]"
     ]
    },
    {
     "name": "stdout",
     "output_type": "stream",
     "text": [
      "Batch 0/18, Loss: 0.6306\n"
     ]
    },
    {
     "name": "stderr",
     "output_type": "stream",
     "text": [
      "Training:  61%|██████    | 11/18 [00:20<00:13,  1.86s/it]"
     ]
    },
    {
     "name": "stdout",
     "output_type": "stream",
     "text": [
      "Batch 10/18, Loss: 0.6326\n"
     ]
    },
    {
     "name": "stderr",
     "output_type": "stream",
     "text": [
      "Training: 100%|██████████| 18/18 [00:32<00:00,  1.80s/it]\n",
      "Evaluating: 100%|██████████| 6/6 [00:09<00:00,  1.54s/it]\n"
     ]
    },
    {
     "name": "stdout",
     "output_type": "stream",
     "text": [
      "Train Loss: 0.6443, Train Acc: 0.5894, Train AUC: 0.6553, Train F1: 0.5187\n",
      "Val Loss: 0.6684, Val Acc: 0.5904, Val AUC: 0.6109, Val F1: 0.5746\n",
      "\n",
      "Classification Report:\n",
      "              precision    recall  f1-score   support\n",
      "\n",
      "      Normal       0.60      0.61      0.61        97\n",
      "    Abnormal       0.58      0.57      0.57        91\n",
      "\n",
      "    accuracy                           0.59       188\n",
      "   macro avg       0.59      0.59      0.59       188\n",
      "weighted avg       0.59      0.59      0.59       188\n",
      "\n",
      "\n",
      "Epoch 31/100\n",
      "--------------------------------------------------\n"
     ]
    },
    {
     "name": "stderr",
     "output_type": "stream",
     "text": [
      "Training:   6%|▌         | 1/18 [00:01<00:29,  1.73s/it]"
     ]
    },
    {
     "name": "stdout",
     "output_type": "stream",
     "text": [
      "Batch 0/18, Loss: 0.6389\n"
     ]
    },
    {
     "name": "stderr",
     "output_type": "stream",
     "text": [
      "Training:  61%|██████    | 11/18 [00:19<00:12,  1.77s/it]"
     ]
    },
    {
     "name": "stdout",
     "output_type": "stream",
     "text": [
      "Batch 10/18, Loss: 0.5042\n"
     ]
    },
    {
     "name": "stderr",
     "output_type": "stream",
     "text": [
      "Training: 100%|██████████| 18/18 [00:31<00:00,  1.78s/it]\n",
      "Evaluating: 100%|██████████| 6/6 [00:09<00:00,  1.55s/it]\n"
     ]
    },
    {
     "name": "stdout",
     "output_type": "stream",
     "text": [
      "Train Loss: 0.6355, Train Acc: 0.6195, Train AUC: 0.6676, Train F1: 0.6362\n",
      "Val Loss: 0.7212, Val Acc: 0.5160, Val AUC: 0.5390, Val F1: 0.5134\n",
      "\n",
      "Classification Report:\n",
      "              precision    recall  f1-score   support\n",
      "\n",
      "      Normal       0.53      0.51      0.52        97\n",
      "    Abnormal       0.50      0.53      0.51        91\n",
      "\n",
      "    accuracy                           0.52       188\n",
      "   macro avg       0.52      0.52      0.52       188\n",
      "weighted avg       0.52      0.52      0.52       188\n",
      "\n",
      "\n",
      "Epoch 32/100\n",
      "--------------------------------------------------\n"
     ]
    },
    {
     "name": "stderr",
     "output_type": "stream",
     "text": [
      "Training:   6%|▌         | 1/18 [00:01<00:32,  1.93s/it]"
     ]
    },
    {
     "name": "stdout",
     "output_type": "stream",
     "text": [
      "Batch 0/18, Loss: 0.6129\n"
     ]
    },
    {
     "name": "stderr",
     "output_type": "stream",
     "text": [
      "Training:  61%|██████    | 11/18 [00:20<00:12,  1.83s/it]"
     ]
    },
    {
     "name": "stdout",
     "output_type": "stream",
     "text": [
      "Batch 10/18, Loss: 0.5894\n"
     ]
    },
    {
     "name": "stderr",
     "output_type": "stream",
     "text": [
      "Training: 100%|██████████| 18/18 [00:32<00:00,  1.79s/it]\n",
      "Evaluating: 100%|██████████| 6/6 [00:09<00:00,  1.54s/it]\n"
     ]
    },
    {
     "name": "stdout",
     "output_type": "stream",
     "text": [
      "Train Loss: 0.6285, Train Acc: 0.6159, Train AUC: 0.6819, Train F1: 0.5703\n",
      "Val Loss: 0.6737, Val Acc: 0.5957, Val AUC: 0.6102, Val F1: 0.5632\n",
      "\n",
      "Classification Report:\n",
      "              precision    recall  f1-score   support\n",
      "\n",
      "      Normal       0.60      0.65      0.62        97\n",
      "    Abnormal       0.59      0.54      0.56        91\n",
      "\n",
      "    accuracy                           0.60       188\n",
      "   macro avg       0.60      0.59      0.59       188\n",
      "weighted avg       0.60      0.60      0.59       188\n",
      "\n",
      "\n",
      "Epoch 33/100\n",
      "--------------------------------------------------\n"
     ]
    },
    {
     "name": "stderr",
     "output_type": "stream",
     "text": [
      "Training:   6%|▌         | 1/18 [00:01<00:32,  1.92s/it]"
     ]
    },
    {
     "name": "stdout",
     "output_type": "stream",
     "text": [
      "Batch 0/18, Loss: 0.6372\n"
     ]
    },
    {
     "name": "stderr",
     "output_type": "stream",
     "text": [
      "Training:  61%|██████    | 11/18 [00:19<00:12,  1.86s/it]"
     ]
    },
    {
     "name": "stdout",
     "output_type": "stream",
     "text": [
      "Batch 10/18, Loss: 0.5656\n"
     ]
    },
    {
     "name": "stderr",
     "output_type": "stream",
     "text": [
      "Training: 100%|██████████| 18/18 [00:32<00:00,  1.78s/it]\n",
      "Evaluating: 100%|██████████| 6/6 [00:09<00:00,  1.54s/it]\n"
     ]
    },
    {
     "name": "stdout",
     "output_type": "stream",
     "text": [
      "Train Loss: 0.6255, Train Acc: 0.6212, Train AUC: 0.6812, Train F1: 0.6109\n",
      "Val Loss: 0.7066, Val Acc: 0.5213, Val AUC: 0.5547, Val F1: 0.5213\n",
      "\n",
      "Classification Report:\n",
      "              precision    recall  f1-score   support\n",
      "\n",
      "      Normal       0.54      0.51      0.52        97\n",
      "    Abnormal       0.51      0.54      0.52        91\n",
      "\n",
      "    accuracy                           0.52       188\n",
      "   macro avg       0.52      0.52      0.52       188\n",
      "weighted avg       0.52      0.52      0.52       188\n",
      "\n",
      "\n",
      "Epoch 34/100\n",
      "--------------------------------------------------\n"
     ]
    },
    {
     "name": "stderr",
     "output_type": "stream",
     "text": [
      "Training:   6%|▌         | 1/18 [00:01<00:29,  1.72s/it]"
     ]
    },
    {
     "name": "stdout",
     "output_type": "stream",
     "text": [
      "Batch 0/18, Loss: 0.5806\n"
     ]
    },
    {
     "name": "stderr",
     "output_type": "stream",
     "text": [
      "Training:  61%|██████    | 11/18 [00:19<00:12,  1.84s/it]"
     ]
    },
    {
     "name": "stdout",
     "output_type": "stream",
     "text": [
      "Batch 10/18, Loss: 0.7054\n"
     ]
    },
    {
     "name": "stderr",
     "output_type": "stream",
     "text": [
      "Training: 100%|██████████| 18/18 [00:31<00:00,  1.76s/it]\n",
      "Evaluating: 100%|██████████| 6/6 [00:09<00:00,  1.56s/it]\n"
     ]
    },
    {
     "name": "stdout",
     "output_type": "stream",
     "text": [
      "Train Loss: 0.6207, Train Acc: 0.6407, Train AUC: 0.7025, Train F1: 0.6518\n",
      "Val Loss: 0.6836, Val Acc: 0.5798, Val AUC: 0.6009, Val F1: 0.5864\n",
      "\n",
      "Classification Report:\n",
      "              precision    recall  f1-score   support\n",
      "\n",
      "      Normal       0.60      0.55      0.57        97\n",
      "    Abnormal       0.56      0.62      0.59        91\n",
      "\n",
      "    accuracy                           0.58       188\n",
      "   macro avg       0.58      0.58      0.58       188\n",
      "weighted avg       0.58      0.58      0.58       188\n",
      "\n",
      "\n",
      "Epoch 35/100\n",
      "--------------------------------------------------\n"
     ]
    },
    {
     "name": "stderr",
     "output_type": "stream",
     "text": [
      "Training:   6%|▌         | 1/18 [00:01<00:31,  1.86s/it]"
     ]
    },
    {
     "name": "stdout",
     "output_type": "stream",
     "text": [
      "Batch 0/18, Loss: 0.5894\n"
     ]
    },
    {
     "name": "stderr",
     "output_type": "stream",
     "text": [
      "Training:  61%|██████    | 11/18 [00:20<00:13,  1.91s/it]"
     ]
    },
    {
     "name": "stdout",
     "output_type": "stream",
     "text": [
      "Batch 10/18, Loss: 0.5878\n"
     ]
    },
    {
     "name": "stderr",
     "output_type": "stream",
     "text": [
      "Training: 100%|██████████| 18/18 [00:34<00:00,  1.89s/it]\n",
      "Evaluating: 100%|██████████| 6/6 [00:10<00:00,  1.78s/it]\n"
     ]
    },
    {
     "name": "stdout",
     "output_type": "stream",
     "text": [
      "Train Loss: 0.6213, Train Acc: 0.6159, Train AUC: 0.6860, Train F1: 0.5913\n",
      "Val Loss: 0.6886, Val Acc: 0.6064, Val AUC: 0.5971, Val F1: 0.5889\n",
      "\n",
      "Classification Report:\n",
      "              precision    recall  f1-score   support\n",
      "\n",
      "      Normal       0.62      0.63      0.62        97\n",
      "    Abnormal       0.60      0.58      0.59        91\n",
      "\n",
      "    accuracy                           0.61       188\n",
      "   macro avg       0.61      0.61      0.61       188\n",
      "weighted avg       0.61      0.61      0.61       188\n",
      "\n",
      "\n",
      "Epoch 36/100\n",
      "--------------------------------------------------\n"
     ]
    },
    {
     "name": "stderr",
     "output_type": "stream",
     "text": [
      "Training:   6%|▌         | 1/18 [00:02<00:38,  2.25s/it]"
     ]
    },
    {
     "name": "stdout",
     "output_type": "stream",
     "text": [
      "Batch 0/18, Loss: 0.6904\n"
     ]
    },
    {
     "name": "stderr",
     "output_type": "stream",
     "text": [
      "Training:  61%|██████    | 11/18 [00:23<00:14,  2.03s/it]"
     ]
    },
    {
     "name": "stdout",
     "output_type": "stream",
     "text": [
      "Batch 10/18, Loss: 0.7143\n"
     ]
    },
    {
     "name": "stderr",
     "output_type": "stream",
     "text": [
      "Training: 100%|██████████| 18/18 [00:36<00:00,  2.04s/it]\n",
      "Evaluating: 100%|██████████| 6/6 [00:10<00:00,  1.68s/it]\n"
     ]
    },
    {
     "name": "stdout",
     "output_type": "stream",
     "text": [
      "Train Loss: 0.6145, Train Acc: 0.6177, Train AUC: 0.7024, Train F1: 0.6250\n",
      "Val Loss: 0.6840, Val Acc: 0.5745, Val AUC: 0.6044, Val F1: 0.5833\n",
      "\n",
      "Classification Report:\n",
      "              precision    recall  f1-score   support\n",
      "\n",
      "      Normal       0.60      0.54      0.57        97\n",
      "    Abnormal       0.55      0.62      0.58        91\n",
      "\n",
      "    accuracy                           0.57       188\n",
      "   macro avg       0.58      0.58      0.57       188\n",
      "weighted avg       0.58      0.57      0.57       188\n",
      "\n",
      "Early stopping triggered after 36 epochs\n",
      "\n",
      "Evaluating on test set...\n"
     ]
    },
    {
     "name": "stderr",
     "output_type": "stream",
     "text": [
      "Evaluating: 100%|██████████| 6/6 [00:17<00:00,  2.87s/it]\n"
     ]
    },
    {
     "name": "stdout",
     "output_type": "stream",
     "text": [
      "Test Loss: 0.6561, Test Acc: 0.5608, Test AUC: 0.6093, Test F1: 0.6029\n",
      "\n",
      "Classification Report:\n",
      "              precision    recall  f1-score   support\n",
      "\n",
      "      Normal       0.61      0.44      0.51        98\n",
      "    Abnormal       0.53      0.69      0.60        91\n",
      "\n",
      "    accuracy                           0.56       189\n",
      "   macro avg       0.57      0.57      0.56       189\n",
      "weighted avg       0.57      0.56      0.55       189\n",
      "\n"
     ]
    },
    {
     "data": {
      "image/png": "[encoded data removed]",
      "text/plain": [
       "<Figure size 1500x500 with 2 Axes>"
      ]
     },
     "metadata": {},
     "output_type": "display_data"
    },
    {
     "data": {
      "image/png": "[encoded data removed]",
      "text/plain": [
       "<Figure size 800x600 with 2 Axes>"
      ]
     },
     "metadata": {},
     "output_type": "display_data"
    },
    {
     "name": "stdout",
     "output_type": "stream",
     "text": [
      "ModelVisualizer initialized with device: cuda\n",
      "Validation loader: 6 batches\n",
      "Caching 50 samples...\n",
      "Cached 50 samples\n",
      "Normal: 24, Abnormal: 26\n",
      "\n",
      "============================================================\n",
      "QUICK VISUALIZATION COMMANDS:\n",
      "============================================================\n",
      "# Attention weights:\n",
      "viz.visualize_attention_weights([0,1,2,3,4,5])\n",
      "\n",
      "# CNN features for specific sample/location:\n",
      "viz.visualize_cnn_features(sample_idx=0, location='AV', layer_name='cnn_conv3')\n",
      "\n",
      "# Compare features between classes:\n",
      "normal_feat, abnormal_feat = viz.compare_features_by_class('cnn_output', 'AV')\n",
      "\n",
      "# View input spectrograms:\n",
      "viz.visualize_spectrograms([0,1,2,3])\n",
      "\n",
      "# Available CNN layers: 'cnn_conv1', 'cnn_conv2', 'cnn_conv3', 'cnn_conv4', 'cnn_fc1', 'cnn_output'\n",
      "============================================================\n",
      "Training completed successfully!\n",
      "Model saved as 'best_heart_sound_model.pth'\n"
     ]
    }
   ],
   "source": [
    "# Cell 7: Usage Example\n",
    "\n",
    "# Example usage and training script\n",
    "if __name__ == \"__main__\":\n",
    "    # Set your data directory path here\n",
    "    DATA_DIR = \"C:\\\\Users\\\\Yosss\\\\Desktop\\\\the-circor-digiscope-phonocardiogram-dataset-1.0.3\\\\the-circor-digiscope-phonocardiogram-dataset-1.0.3\\\\training_data\"\n",
    "    \n",
    "    # Check if directory exists (comment out if you want to skip this check)\n",
    "    if not os.path.exists(DATA_DIR):\n",
    "        print(f\"Data directory {DATA_DIR} not found!\")\n",
    "        print(\"Please update DATA_DIR variable with the correct path to your CirCor dataset\")\n",
    "        print(\"\\nTo use this code:\")\n",
    "        print(\"1. Download the CirCor dataset from PhysioNet\")\n",
    "        print(\"2. Extract it to a directory\")\n",
    "        print(\"3. Update the DATA_DIR variable above\")\n",
    "        print(\"4. Run the training pipeline\")\n",
    "        exit()\n",
    "    \n",
    "    # Run training pipeline\n",
    "    try:\n",
    "        trained_model, preprocessor, scaler, viz = main_training_pipeline(\n",
    "            data_dir=DATA_DIR,\n",
    "            batch_size=32,  # Adjust based on your GPU memory\n",
    "            num_epochs=100,\n",
    "            learning_rate=0.0001\n",
    "        )\n",
    "        \n",
    "        print(\"Training completed successfully!\")\n",
    "        print(\"Model saved as 'best_heart_sound_model.pth'\")\n",
    "        \n",
    "\n",
    "    except Exception as e:\n",
    "        print(f\"Error during training: {e}\")\n",
    "        import traceback\n",
    "        traceback.print_exc()"
   ]
  },
  {
   "cell_type": "code",
   "execution_count": 2,
   "id": "895b867c",
   "metadata": {},
   "outputs": [
    {
     "ename": "NameError",
     "evalue": "name 'Dataset' is not defined",
     "output_type": "error",
     "traceback": [
      "\u001b[31m---------------------------------------------------------------------------\u001b[39m",
      "\u001b[31mNameError\u001b[39m                                 Traceback (most recent call last)",
      "\u001b[36mCell\u001b[39m\u001b[36m \u001b[39m\u001b[32mIn[2]\u001b[39m\u001b[32m, line 3\u001b[39m\n\u001b[32m      1\u001b[39m \u001b[38;5;66;03m#Example prediction (uncomment to use)\u001b[39;00m\n\u001b[32m----> \u001b[39m\u001b[32m3\u001b[39m \u001b[38;5;28;01mclass\u001b[39;00m\u001b[38;5;250m \u001b[39m\u001b[34;01mHeartSoundDatasetPredict\u001b[39;00m(\u001b[43mDataset\u001b[49m):\n\u001b[32m      4\u001b[39m \u001b[38;5;250m    \u001b[39m\u001b[33;03m\"\"\"Dataset class for heart sound classification\"\"\"\u001b[39;00m\n\u001b[32m      6\u001b[39m     \u001b[38;5;28;01mdef\u001b[39;00m\u001b[38;5;250m \u001b[39m\u001b[34m__init__\u001b[39m(\u001b[38;5;28mself\u001b[39m, patients_data, preprocessor=\u001b[38;5;28;01mNone\u001b[39;00m, demographic_scaler=\u001b[38;5;28;01mNone\u001b[39;00m):\n",
      "\u001b[31mNameError\u001b[39m: name 'Dataset' is not defined"
     ]
    }
   ],
   "source": [
    "#Example prediction (uncomment to use)\n",
    "\n",
    "class HeartSoundDatasetPredict(Dataset):\n",
    "    \"\"\"Dataset class for heart sound classification\"\"\"\n",
    "    \n",
    "    def __init__(self, patients_data, preprocessor=None, demographic_scaler=None):\n",
    "        self.patients_data = patients_data\n",
    "        self.preprocessor = preprocessor if preprocessor else AudioPreprocessor()\n",
    "        self.demographic_scaler = demographic_scaler\n",
    "        self.locations = ['AV', 'PV', 'TV', 'MV']\n",
    "        \n",
    "    def __len__(self):\n",
    "        return len(self.patients_data)\n",
    "\n",
    "    def __getitem__(self, idx):\n",
    "        patient = self.patients_data[idx]\n",
    "\n",
    "        # Process audio for each location\n",
    "        location_embeddings = {}\n",
    "        \n",
    "        for location in self.locations:\n",
    "            if location in patient.get('recordings', {}):\n",
    "                # Get all recordings for this location\n",
    "                recording_files = patient['recordings'][location]\n",
    "                \n",
    "                all_clips_embeddings = []\n",
    "                \n",
    "                for audio_file in recording_files:\n",
    "                    try:\n",
    "                        # Load audio\n",
    "                        audio, sr = librosa.load(audio_file, sr=self.preprocessor.sample_rate)\n",
    "                        \n",
    "                        # Split into 5-second clips\n",
    "                        clips = self.preprocessor.split_into_5s_clips(audio, sr)\n",
    "                        \n",
    "                        # Process each clip\n",
    "                        for clip in clips:\n",
    "                            mel_spec = self.preprocessor.audio_to_melspec(clip)\n",
    "                            # Convert to tensor and add channel dimension\n",
    "                            mel_tensor = torch.FloatTensor(mel_spec).unsqueeze(0)\n",
    "                            all_clips_embeddings.append(mel_tensor)\n",
    "                            \n",
    "                    except Exception as e:\n",
    "                        print(f\"Error processing {audio_file}: {e}\")\n",
    "                        continue\n",
    "                \n",
    "                if all_clips_embeddings:\n",
    "                    # Stack all clips for this location\n",
    "                    location_embeddings[location] = torch.stack(all_clips_embeddings)\n",
    "                else:\n",
    "                    # Create dummy tensor if no valid clips\n",
    "                    location_embeddings[location] = torch.zeros(1, 1, self.preprocessor.n_mels, \n",
    "                                                              self.preprocessor.n_mels)\n",
    "            else:\n",
    "                # Create dummy tensor for missing location\n",
    "                location_embeddings[location] = torch.zeros(1, 1, self.preprocessor.n_mels, \n",
    "                                                          self.preprocessor.n_mels)\n",
    "        \n",
    "        # Process demographics\n",
    "        demographics = self.process_demographics(patient)\n",
    "\n",
    "        return location_embeddings, demographics\n",
    "\n",
    "    def process_demographics(self, patient):\n",
    "        \"\"\"Process demographic information into numerical features\"\"\"\n",
    "        # Extract and encode demographic features\n",
    "        features = []\n",
    "        \n",
    "        # Height (convert to float or use median if missing)\n",
    "        try:\n",
    "            height = float(patient.get('height', 120.0))  # median height in dataset\n",
    "        except (ValueError, TypeError):\n",
    "            height = 120.0\n",
    "        features.append(height)\n",
    "        \n",
    "        # Weight (convert to float or use median if missing)\n",
    "        try:\n",
    "            weight = float(patient.get('weight', 25.0))  # median weight in dataset\n",
    "        except (ValueError, TypeError):\n",
    "            weight = 25.0\n",
    "        features.append(weight)\n",
    "        \n",
    "        # Sex (0 for Female, 1 for Male)\n",
    "        sex = 1 if patient.get('sex') == 'Male' else 0\n",
    "        features.append(sex)\n",
    "        \n",
    "        # Age (encode age categories as numerical)\n",
    "        age_mapping = {\n",
    "            'Neonate': 0, 'Infant': 1, 'Child': 2, \n",
    "            'Adolescent': 3, 'Young Adult': 4\n",
    "        }\n",
    "        age = age_mapping.get(patient.get('age'), 2)  # default to Child\n",
    "        features.append(age)\n",
    "        \n",
    "        # Pregnancy status (0 for False/None, 1 for True)\n",
    "        pregnancy = 1 if patient.get('pregnancy_status') == 'True' else 0\n",
    "        features.append(pregnancy)\n",
    "        \n",
    "        demographics_tensor = torch.FloatTensor(features)\n",
    "        \n",
    "\n",
    "\n",
    "        if self.demographic_scaler:\n",
    "            features_np = np.array(features).reshape(1, -1)\n",
    "            demographics_tensor = torch.FloatTensor(\n",
    "                self.demographic_scaler.transform(features_np).flatten()\n",
    "            )\n",
    "        \n",
    "        return demographics_tensor\n",
    "\n",
    "\n",
    "\n",
    "def predict_single_patient(model, preprocessor, demographic_scaler, patient_data, device):\n",
    "    \"\"\"Make prediction for a single patient\"\"\"\n",
    "    model.eval()\n",
    "    \n",
    "    # Create dataset with single patient\n",
    "    dataset = HeartSoundDatasetPredict([patient_data], preprocessor, demographic_scaler)\n",
    "\n",
    "    if len(dataset) == 0:\n",
    "        return None, \"No valid data for prediction\"\n",
    "\n",
    "    # Get data\n",
    "    location_data, demographics, _ = dataset[0]\n",
    "\n",
    "    # Add batch dimension and move to device\n",
    "    demographics = demographics.unsqueeze(0).to(device)\n",
    "\n",
    "    # Prepare location data\n",
    "    batch_location_data = {}\n",
    "    for loc in ['AV', 'PV', 'TV', 'MV']:\n",
    "        batch_location_data[loc] = [location_data[loc].to(device)]\n",
    "\n",
    "    with torch.no_grad():\n",
    "        outputs = model(batch_location_data, demographics)\n",
    "        probabilities = F.softmax(outputs, dim=1)\n",
    "        _, predicted = torch.max(outputs, 1)\n",
    "\n",
    "    prediction = \"Normal\" if predicted.item() == 0 else \"Abnormal\"\n",
    "    confidence = probabilities[0][predicted.item()].item()\n",
    "\n",
    "    return prediction, confidence\n",
    "\n",
    "\n",
    "\n",
    "\n",
    "\n",
    "sample_patient = {\n",
    "    'subject_id': '12345',\n",
    "    'age': 'Child',\n",
    "    'sex': 'Female', \n",
    "    'height': '120.0',\n",
    "    'weight': '25.0',\n",
    "    'pregnancy_status': 'False',\n",
    "    'recordings': {\n",
    "        'AV': ['C:\\\\Users\\\\Yosss\\\\Desktop\\\\the-circor-digiscope-phonocardiogram-dataset-1.0.3\\\\the-circor-digiscope-phonocardiogram-dataset-1.0.3\\\\training_data\\\\85349_AV.wav'],\n",
    "        'PV': ['C:\\\\Users\\\\Yosss\\\\Desktop\\\\the-circor-digiscope-phonocardiogram-dataset-1.0.3\\\\the-circor-digiscope-phonocardiogram-dataset-1.0.3\\\\training_data\\\\85349_PV.wav'],\n",
    "        'TV': ['C:\\\\Users\\\\Yosss\\\\Desktop\\\\the-circor-digiscope-phonocardiogram-dataset-1.0.3\\\\the-circor-digiscope-phonocardiogram-dataset-1.0.3\\\\training_data\\\\85349_TV.wav'],\n",
    "        'MV': ['C:\\\\Users\\\\Yosss\\\\Desktop\\\\the-circor-digiscope-phonocardiogram-dataset-1.0.3\\\\the-circor-digiscope-phonocardiogram-dataset-1.0.3\\\\training_data\\\\85349_MV.wav'],\n",
    "    }\n",
    "}\n",
    "\n",
    "prediction, confidence = predict_single_patient(\n",
    "    trained_model, preprocessor, scaler, sample_patient, \n",
    "    torch.device('cuda' if torch.cuda.is_available() else 'cpu')\n",
    ")\n",
    "print(confidence)\n"
   ]
  },
  {
   "cell_type": "code",
   "execution_count": 8,
   "id": "ff9492ed",
   "metadata": {},
   "outputs": [
    {
     "data": {
      "image/png": "[encoded data removed]",
      "text/plain": [
       "<Figure size 1600x1600 with 32 Axes>"
      ]
     },
     "metadata": {},
     "output_type": "display_data"
    }
   ],
   "source": [
    "viz.visualize_cnn_features(sample_idx=0, location='AV', layer_name='cnn_conv3')"
   ]
  }
 ],
 "metadata": {
  "kernelspec": {
   "display_name": "Python 3",
   "language": "python",
   "name": "python3"
  },
  "language_info": {
   "codemirror_mode": {
    "name": "ipython",
    "version": 3
   },
   "file_extension": ".py",
   "mimetype": "text/x-python",
   "name": "python",
   "nbconvert_exporter": "python",
   "pygments_lexer": "ipython3",
   "version": "3.11.9"
  }
 },
 "nbformat": 4,
 "nbformat_minor": 5
}
